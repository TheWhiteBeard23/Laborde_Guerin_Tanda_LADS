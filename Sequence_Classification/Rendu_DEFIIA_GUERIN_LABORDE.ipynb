{
  "nbformat": 4,
  "nbformat_minor": 0,
  "metadata": {
    "kernelspec": {
      "display_name": "Python 3",
      "language": "python",
      "name": "python3"
    },
    "language_info": {
      "codemirror_mode": {
        "name": "ipython",
        "version": 3
      },
      "file_extension": ".py",
      "mimetype": "text/x-python",
      "name": "python",
      "nbconvert_exporter": "python",
      "pygments_lexer": "ipython3",
      "version": "3.7.6"
    },
    "colab": {
      "name": "Rendu_DEFIIA_GUERIN_LABORDE.ipynb",
      "provenance": [],
      "collapsed_sections": []
    }
  },
  "cells": [
    {
      "cell_type": "markdown",
      "metadata": {
        "id": "_8iZrHj-3Gut"
      },
      "source": [
        "<u><center><h1> Projet IA </h1></center></u>"
      ]
    },
    {
      "cell_type": "markdown",
      "metadata": {
        "id": "paU6AD803Guz"
      },
      "source": [
        "<img\n",
        "    src=\"https://media.lesechos.com/api/v1/images/view/5e56479f3e45463f2c5e2f78/1280x720-webp/11513-1522338774-ia.webp\"\n",
        "    alt=\"[ABC Tech posssède 75% de part de marché et XYZ 25%]\"\n",
        "    height=\"600px\"\n",
        "    width=\"600px\"\n",
        "/>"
      ]
    },
    {
      "cell_type": "markdown",
      "metadata": {
        "id": "ryF9blN03Gu0"
      },
      "source": [
        "<u> <h2><FONT color=\"darkred\"> Préambule </FONT></h2> </u>\n",
        "    \n",
        "<h3>Point d'attention</h3>\n",
        "    \n",
        "Tous les codes adaptés de codes mis à disposition sur internet sont cités dans la bibliographie."
      ]
    },
    {
      "cell_type": "markdown",
      "metadata": {
        "id": "DXfGp2aI3Gu1"
      },
      "source": [
        "<h3> a) Importation des packages </h3>\n",
        "\n",
        "<p style=\"text-align: justify;\">Ici, on importe tous les packages nécessaires à l'utilisation des différentes techniques présentées dans le cadre ce rapport. Sklearn ainsi que nltk sont deux packages très répandus lors de la réalisation de travaux sur le domaine NLP (Natural processing language).</p>"
      ]
    },
    {
      "cell_type": "code",
      "metadata": {
        "id": "eJEF77Tv3Gu2",
        "outputId": "a34b8757-6881-4f15-9fba-2137d46d00b0"
      },
      "source": [
        "#Package\n",
        "import warnings\n",
        "warnings.filterwarnings('ignore')\n",
        "\n",
        "\n",
        "# les installations de packages\n",
        "\n",
        "#!pip install langdetect\n",
        "#!pip install pyquickhelper\n",
        "#!pip install pyensae\n",
        "\n",
        "from nltk.corpus import stopwords\n",
        "import nltk\n",
        "from nltk.util import ngrams\n",
        "from nltk.probability import FreqDist\n",
        "from nltk.corpus import wordnet \n",
        "from wordcloud import WordCloud, STOPWORDS, ImageColorGenerator\n",
        "import pandas as pd\n",
        "import numpy as np\n",
        "import pickle\n",
        "from nltk.stem import WordNetLemmatizer\n",
        "import matplotlib.pyplot as plt\n",
        "import re\n",
        "import string\n",
        "from translate import Translator\n",
        "from sklearn import svm\n",
        "from sklearn.model_selection import train_test_split\n",
        "from sklearn.feature_extraction.text import TfidfVectorizer\n",
        "from nltk.tokenize import word_tokenize\n",
        "from sklearn.linear_model import LogisticRegression\n",
        "from sklearn.feature_extraction.text import TfidfTransformer, CountVectorizer\n",
        "from sklearn.pipeline import make_pipeline\n",
        "from sklearn.ensemble import RandomForestClassifier\n",
        "from sklearn import preprocessing\n",
        "from sklearn.feature_extraction.text import CountVectorizer\n",
        "from sklearn.naive_bayes import MultinomialNB\n",
        "from langdetect import detect\n",
        "import spacy\n",
        "from spacy.cli import download\n",
        "from sklearn.feature_extraction.text import CountVectorizer\n",
        "\n",
        "\n",
        "#Declaration d'une fonction pour la suite\n",
        "re_tok = re.compile(f'([{string.punctuation}“”¨«»®´·º½¾¿¡§£₤‘’])')\n",
        "def tokenize(s): return re_tok.sub('', s).split()\n",
        "\n",
        "#Dowload\n",
        "nltk.download('wordnet')\n",
        "nltk.download('punkt')\n",
        "nltk.download('averaged_perceptron_tagger') "
      ],
      "execution_count": null,
      "outputs": [
        {
          "output_type": "stream",
          "text": [
            "[nltk_data] Downloading package wordnet to\n",
            "[nltk_data]     C:\\Users\\cleme\\AppData\\Roaming\\nltk_data...\n",
            "[nltk_data]   Package wordnet is already up-to-date!\n",
            "[nltk_data] Downloading package punkt to\n",
            "[nltk_data]     C:\\Users\\cleme\\AppData\\Roaming\\nltk_data...\n",
            "[nltk_data]   Package punkt is already up-to-date!\n",
            "[nltk_data] Downloading package averaged_perceptron_tagger to\n",
            "[nltk_data]     C:\\Users\\cleme\\AppData\\Roaming\\nltk_data...\n",
            "[nltk_data]   Package averaged_perceptron_tagger is already up-to-\n",
            "[nltk_data]       date!\n"
          ],
          "name": "stderr"
        },
        {
          "output_type": "execute_result",
          "data": {
            "text/plain": [
              "True"
            ]
          },
          "metadata": {
            "tags": []
          },
          "execution_count": 102
        }
      ]
    },
    {
      "cell_type": "markdown",
      "metadata": {
        "id": "TUTUkGmj3Gu5"
      },
      "source": [
        "<h3> b) Importation des données </h3>\n",
        "\n",
        "<p style=\"text-align: justify;\">Dans cette section les données sont importées. Cela est fait depuis deux fichiers \".json\" pour les 217 000 descriptions de la base de données d'apprentissage ainsi que les 54 000 descriptions de la base données test. On importe un \".csv\" contenant les classes auxquelles appartiennent les 217 000 descriptions d'apprentissage en plus.</p>"
      ]
    },
    {
      "cell_type": "code",
      "metadata": {
        "id": "oelVl9XQ3Gu7"
      },
      "source": [
        "train_df = pd.read_json(\"train.json\")\n",
        "test_df = pd.read_json(\"test.json\")\n",
        "train_label = pd.read_csv(\"train_label.csv\")"
      ],
      "execution_count": null,
      "outputs": []
    },
    {
      "cell_type": "markdown",
      "metadata": {
        "id": "-vv7cFAD3Gu7"
      },
      "source": [
        "<u> <h2><FONT color=\"darkred\"> I - Quelques statistiques descriptives </FONT></h2> </u>\n",
        "    \n",
        "<p style=\"text-align: justify;\">Afin de mieux comprendre notre jeu de données on peut l'étudier à l'aide de quelques statistiques descriptives. Dans un premier temps on étudie les longueurs moyennes, les écarts-types, les quartiles, etc... de la longueur de nos descriptions.</p>"
      ]
    },
    {
      "cell_type": "code",
      "metadata": {
        "id": "fDUT_ZrD3Gu7",
        "outputId": "f56ac686-b8c2-45c2-9c48-c761ed779f27"
      },
      "source": [
        "#apprentissage\n",
        "description_text = train_df.description\n",
        "description_token = description_text.apply(tokenize)\n",
        "\n",
        "vect=[]\n",
        "for line in description_token:\n",
        "    vect.append(len(line))\n",
        "        \n",
        "#test\n",
        "description_text = test_df.description\n",
        "description_token = description_text.apply(tokenize)\n",
        "\n",
        "vect_test=[]\n",
        "for line in description_token:\n",
        "    vect_test.append(len(line))\n",
        "    \n",
        "vect_1=pd.DataFrame(vect)\n",
        "vect_2=pd.DataFrame(vect_test)\n",
        "vect_1 = vect_1.rename({0: 'Apprentissage'}, axis=1)\n",
        "vect_2 = vect_2.rename({0: 'Test'}, axis=1)\n",
        "\n",
        "stat_des = pd.concat([vect_1, vect_2], axis=1)\n",
        "stat_des.describe()"
      ],
      "execution_count": null,
      "outputs": [
        {
          "output_type": "execute_result",
          "data": {
            "text/html": [
              "<div>\n",
              "<style scoped>\n",
              "    .dataframe tbody tr th:only-of-type {\n",
              "        vertical-align: middle;\n",
              "    }\n",
              "\n",
              "    .dataframe tbody tr th {\n",
              "        vertical-align: top;\n",
              "    }\n",
              "\n",
              "    .dataframe thead th {\n",
              "        text-align: right;\n",
              "    }\n",
              "</style>\n",
              "<table border=\"1\" class=\"dataframe\">\n",
              "  <thead>\n",
              "    <tr style=\"text-align: right;\">\n",
              "      <th></th>\n",
              "      <th>Apprentissage</th>\n",
              "      <th>Test</th>\n",
              "    </tr>\n",
              "  </thead>\n",
              "  <tbody>\n",
              "    <tr>\n",
              "      <th>count</th>\n",
              "      <td>217197.000000</td>\n",
              "      <td>54300.000000</td>\n",
              "    </tr>\n",
              "    <tr>\n",
              "      <th>mean</th>\n",
              "      <td>61.039959</td>\n",
              "      <td>60.973775</td>\n",
              "    </tr>\n",
              "    <tr>\n",
              "      <th>std</th>\n",
              "      <td>28.022422</td>\n",
              "      <td>28.084658</td>\n",
              "    </tr>\n",
              "    <tr>\n",
              "      <th>min</th>\n",
              "      <td>6.000000</td>\n",
              "      <td>8.000000</td>\n",
              "    </tr>\n",
              "    <tr>\n",
              "      <th>25%</th>\n",
              "      <td>38.000000</td>\n",
              "      <td>38.000000</td>\n",
              "    </tr>\n",
              "    <tr>\n",
              "      <th>50%</th>\n",
              "      <td>56.000000</td>\n",
              "      <td>56.000000</td>\n",
              "    </tr>\n",
              "    <tr>\n",
              "      <th>75%</th>\n",
              "      <td>79.000000</td>\n",
              "      <td>79.000000</td>\n",
              "    </tr>\n",
              "    <tr>\n",
              "      <th>max</th>\n",
              "      <td>179.000000</td>\n",
              "      <td>174.000000</td>\n",
              "    </tr>\n",
              "  </tbody>\n",
              "</table>\n",
              "</div>"
            ],
            "text/plain": [
              "       Apprentissage          Test\n",
              "count  217197.000000  54300.000000\n",
              "mean       61.039959     60.973775\n",
              "std        28.022422     28.084658\n",
              "min         6.000000      8.000000\n",
              "25%        38.000000     38.000000\n",
              "50%        56.000000     56.000000\n",
              "75%        79.000000     79.000000\n",
              "max       179.000000    174.000000"
            ]
          },
          "metadata": {
            "tags": []
          },
          "execution_count": 86
        }
      ]
    },
    {
      "cell_type": "markdown",
      "metadata": {
        "id": "rtk93W0Q3Gu8"
      },
      "source": [
        "<p style=\"text-align: justify;\">On observe de ce côté-là une très grande similitude entre les jeux de données de test et d'apprentissage concernant les descriptions qui les composent. Il n'y a donc à ce niveau là pas de raison d'envisager d'effectuer un retraitement pour les rendre plus similaires. On peut aussi observer ces répartitions de manières plus précises avec des histogrammes. L'histogramme rouge pour le jeu d'apprentissage et le bleu pour le test. Les deux sont ainsi très similaires.</p>"
      ]
    },
    {
      "cell_type": "code",
      "metadata": {
        "id": "Vij9_H9g3Gu9",
        "outputId": "61477d2c-bc1f-4adc-aa0f-079aec08d9d7"
      },
      "source": [
        "fig, (ax1, ax2) = plt.subplots(2)\n",
        "\n",
        "ax1.hist(vect,bins=10,color='r',alpha=0.7, rwidth=0.85,density=False)\n",
        "ax1.grid(True)\n",
        "ax2.hist(vect_test,bins=10,color='b',alpha=0.7, rwidth=0.85,density=False)\n",
        "ax2.grid(True)"
      ],
      "execution_count": null,
      "outputs": [
        {
          "output_type": "display_data",
          "data": {
            "image/png": "[encoded data removed]",
            "text/plain": [
              "<Figure size 432x288 with 2 Axes>"
            ]
          },
          "metadata": {
            "tags": [],
            "needs_background": "light"
          }
        }
      ]
    },
    {
      "cell_type": "markdown",
      "metadata": {
        "id": "lfmWI98F3Gu-"
      },
      "source": [
        "On peut aussi s'intéresser à la répartition des effectifs par classe ainsi que de la répartition homme/femme à l'intérieur de chaque classe."
      ]
    },
    {
      "cell_type": "code",
      "metadata": {
        "id": "lB80ZkiP3Gu-",
        "outputId": "95ba38ff-7353-48af-c18b-b978c76bb720"
      },
      "source": [
        "# Catégorie professionnelle et répartition homme/femme\n",
        "names = pd.read_csv('categories_string.csv')['0'].to_dict()\n",
        "jobs = pd.read_csv('train_label.csv', index_col='Id')['Category']\n",
        "jobs = jobs.map(names)\n",
        "jobs = jobs.rename('job')\n",
        "genders = pd.read_json('train.json').set_index('Id')['gender']\n",
        "\n",
        "people = pd.concat((jobs, genders), axis='columns')\n",
        "counts = people.groupby(['job', 'gender']).size().unstack('gender')\n",
        "counts\n",
        "# Représentation graphique de la répartition des métiers par sexe\n",
        "nb_jobs = len(counts)\n",
        "\n",
        "metier = np.sort(list(names.values()))\n",
        "sexe =['Hommes','Femmes']\n",
        "pos = np.arange(len(metier))\n",
        "metier_hommes = list(counts.M)\n",
        "metier_femmes = list(counts.F)\n",
        "\n",
        "plt.figure(figsize=(10,15))\n",
        "plt.barh(pos,metier_hommes,color='blue',edgecolor='black')\n",
        "plt.barh(pos,metier_femmes,color='orange',edgecolor='black',left=metier_hommes)\n",
        "plt.yticks(pos, metier)\n",
        "plt.ylabel('Métier', fontsize=20)\n",
        "plt.xlabel('Effectifs', fontsize=16)\n",
        "plt.title('Répartition hommes/femmes par métier',fontsize=18)\n",
        "plt.legend(sexe,loc=2)\n",
        "plt.show()"
      ],
      "execution_count": null,
      "outputs": [
        {
          "output_type": "display_data",
          "data": {
            "image/png": "[encoded data removed]",
            "text/plain": [
              "<Figure size 720x1080 with 1 Axes>"
            ]
          },
          "metadata": {
            "tags": [],
            "needs_background": "light"
          }
        }
      ]
    },
    {
      "cell_type": "markdown",
      "metadata": {
        "id": "E8u95Cox3Gu-"
      },
      "source": [
        "<p style=\"text-align: justify;\">Cette représentation est extrêmement informative et permet d'observer un énorme déséquilibre dans les classes. Les professeurs représentent plus de 70 000 descriptions soit près d'un tiers alors que les professeurs de yoga, coachs personnels ou rappeurs ne sont que très peu représentés. Ceci peut causer des déséquilibres pour la suite si les algorithmes ne sont pas assez performants pour reconnaitre les différences entre les descriptions des métiers, ils peuvent avoir tendance à surreprésenter les classes majoritaires (souvent la classe 19 : professeur).</p>\n",
        "    \n",
        "<p style=\"text-align: justify;\">Il existe des méthodes pour contrebalancer ce problème partiellement si le jeu de données d'apprentissage est très différent du jeu de données test dans la répartition des classes. Cependant, n'ayant pas les labels du jeu test il est impossible de le vérifier. Nous avons mis en place certaines de ces techniques (l'une consiste à dupliquer certaines descriptions des classes minoritaires, l'autre consiste à traduire certaines descriptions des classes minoritaires vers une langue tierce (par exemple l'allemand ou le français) avant de retraduire dans la langue anglaise.</p>\n",
        "\n",
        "<p style=\"text-align: justify;\">Dans cette deuxième technique le résultat est ainsi légèrement différent de l'original et on a ainsi une autre description de la classe. Cependant aucune de ces deux méthodes ne s'est avérée efficace traduisant potentiellement que la répartition des classes dans le jeu de données test est sans doute très proche du jeu de données d'apprentissage. Nous mettons tout de même ci-dessous un code permettant de détecter la langue d'origine d'une description ainsi que de la traduire vers une langue cible. Nous avons mené cette étude mais celle-ci n'étant pas concluante nous n'irons pas plus loin.</p>"
      ]
    },
    {
      "cell_type": "code",
      "metadata": {
        "id": "n3vHY9IH3Gu_",
        "outputId": "77e520e9-705a-4c85-84e8-3ea7f9f37fc0"
      },
      "source": [
        "translator= Translator(to_lang=\"en\",from_lang = \"fr\")\n",
        "translation = translator.translate('Ceci est un test afin de faire une illustration convaincante.')\n",
        "print(translation)"
      ],
      "execution_count": null,
      "outputs": [
        {
          "output_type": "stream",
          "text": [
            "This is a test in order to make a convincing illustration.\n"
          ],
          "name": "stdout"
        }
      ]
    },
    {
      "cell_type": "markdown",
      "metadata": {
        "id": "gDCPS7Fd3GvA"
      },
      "source": [
        "<p style=\"text-align: justify;\">On a aussi étudié la langue des descriptions mais seulement un nombre largement minoritaire dans l'ensemble d'apprentissage et de test sont dans une langue différente de l'anglais (116 pour l'apprentissage et 28 pour le test). Un exemple d'une de ces descriptions ci-dessous avec un code pour en détecter la langue :</p>"
      ]
    },
    {
      "cell_type": "code",
      "metadata": {
        "id": "s6xLSMno3GvA",
        "outputId": "02a5206b-68d9-4b5f-ca94-21b5d85a8d3e"
      },
      "source": [
        "lang=detect(train_df.iloc[267][\"description\"])\n",
        "print(train_df.iloc[267][\"description\"])\n",
        "print(\" \")\n",
        "print(\"cette description est en \"+\"\\\"\"+lang+\"\\\"\")"
      ],
      "execution_count": null,
      "outputs": [
        {
          "output_type": "stream",
          "text": [
            " He informs martial arts to his two children. However, his past catches up to him because a scoundrel’s agent requires to know the whereabouts of an agent known as a dragon. Now father and children must get together to stop the scoundrel’s agents and his idiots. Teddy Yu ist gedrehter Chiropraktiker eines ehemaligen Geheimagenten, der dachte, dass er seine Vergangenheit zurückließ. Er unterrichtet Kampfsportarten seinen zwei Kindern. Jedoch holt seine Vergangenheit zu ihm auf, weil ein Schelm-Agent verlangt, den Verbleib eines als Drache bekannten Agenten zu wissen. Jetzt müssen sich Vater und Kinder zusammentun, den Schelm-Agenten und seine Idioten aufzuhören.\n",
            " \n",
            "cette description est en \"de\"\n"
          ],
          "name": "stdout"
        }
      ]
    },
    {
      "cell_type": "markdown",
      "metadata": {
        "id": "WZYcviRj3GvA"
      },
      "source": [
        "D'autres statistiques descriptives ont aussi été effectuées lors des différents cours en classe provenant du code de Mr BIGOT, comme des word clouds (nuage de mots) ou autres. Cependant nous n'avons pas jugé intéressant de les faire apparaître ici, étant donné que notre meilleure méthode, BERT, que nous introduirons par la suite n'est pas vraiment sensible à ces études préliminaires."
      ]
    },
    {
      "cell_type": "markdown",
      "metadata": {
        "id": "uYc48OK23GvA"
      },
      "source": [
        "<u> <h2><FONT color=\"darkred\"> II - Prétraitement des données </FONT></h2> </u>"
      ]
    },
    {
      "cell_type": "markdown",
      "metadata": {
        "id": "c_jXILfg3GvB"
      },
      "source": [
        "<p style=\"text-align: justify;\">Dans un premier temps pour de nombreuses méthodes (pas toutes, on verra que BERT ne le requiert pas par exemple) on effectue un prétraitement de données.</p>\n",
        "\n",
        "<p style=\"text-align: justify;\">La première étape consiste à mettre les descriptions en minuscules afin que par la suite deux mots ne soient pas identifiés comme étant diffèrent si l'un est le même que l'autre se situant seulement au début d'une phrase. Exemple:\n",
        "\"study\" et \"Study\".</p>"
      ]
    },
    {
      "cell_type": "code",
      "metadata": {
        "id": "gHLDzhh23GvB"
      },
      "source": [
        "# Description en minuscule\n",
        "\n",
        "train_df[\"description_lower\"] = [x.lower() for x in train_df.description]\n",
        "test_df[\"description_lower\"] = [x.lower() for x in test_df.description]"
      ],
      "execution_count": null,
      "outputs": []
    },
    {
      "cell_type": "markdown",
      "metadata": {
        "id": "Td93_H2P3GvB"
      },
      "source": [
        "<h3> a) Lemmatization </h3>\n",
        "\n",
        "<p style=\"text-align: justify;\">La lemmatization est une étape souvent très importante lors de l'étude d'un problème de NLP. Elle consiste à rapporter des mots à une racine. Ainsi les mots \"playing\", \"played\" et \"plays\" sont ramenés à la même racine \"play\" par exmple et seront identifiés comme identiques par la suite. Cela participe en général à améliorer grandement les résultats. De plus des verbes issus de la même base y seront ramenés comme \"was\", \"were\", \"been\" etc... seront ramenés à \"be\".</p>\n",
        "<p style=\"text-align: justify;\">Pour finir, il convient de noter qu'il existe différentes fonctions pour lemmatizer (package spacy, stanford, gensim, pattern etc...). Nous en avons étudié plusieurs et celle de WordNetLemmatizer associée à des POS_TAG (petites lettres signifiant si le mot est un verbe, un nom, un adverbe etc...) est celle qui nous a fourni les meilleurs résultats.</p>"
      ]
    },
    {
      "cell_type": "markdown",
      "metadata": {
        "id": "0uQGoAzz3GvB"
      },
      "source": [
        "<h4> Lemmatization de l'ensemble d'entrainement </h4>\n",
        "\n",
        "<p style=\"text-align: justify;\">Ci-dessous on effectue la lemmatization du jeu de données d'apprentissage. On affiche de plus des exemples pour observer les résultats.</p>"
      ]
    },
    {
      "cell_type": "code",
      "metadata": {
        "id": "702mj_T-3GvC"
      },
      "source": [
        "lemmatizer = WordNetLemmatizer() \n",
        "def pos_tagger(nltk_tag): \n",
        "    if nltk_tag.startswith('J'): \n",
        "        return wordnet.ADJ \n",
        "    elif nltk_tag.startswith('V'): \n",
        "        return wordnet.VERB \n",
        "    elif nltk_tag.startswith('N'): \n",
        "        return wordnet.NOUN \n",
        "    elif nltk_tag.startswith('R'): \n",
        "        return wordnet.ADV \n",
        "    else:           \n",
        "        return None\n",
        "\n",
        "# Lemmatisation du jeu de données train\n",
        "vect=[]\n",
        "for i in train_df[\"description_lower\"]:\n",
        "    pos_tagged = nltk.pos_tag(nltk.word_tokenize(i))  \n",
        "    wordnet_tagged = list(map(lambda x: (x[0], pos_tagger(x[1])), pos_tagged)) \n",
        "\n",
        "    lemmatized_sentence = \" \"\n",
        "    for word, tag in wordnet_tagged: \n",
        "        if tag is None:  \n",
        "            lemmatized_sentence=lemmatized_sentence+\" \"+word \n",
        "        else:         \n",
        "            lemmatized_sentence=lemmatized_sentence+\" \"+lemmatizer.lemmatize(word, tag)\n",
        "    vect.append(lemmatized_sentence)\n",
        "train_df[\"description_lemmatized\"]=vect\n"
      ],
      "execution_count": null,
      "outputs": []
    },
    {
      "cell_type": "code",
      "metadata": {
        "id": "NhzoDSvk3GvC",
        "outputId": "22487876-ac31-484b-bb5a-8a20b926ba35"
      },
      "source": [
        "train_df.head()"
      ],
      "execution_count": null,
      "outputs": [
        {
          "output_type": "execute_result",
          "data": {
            "text/html": [
              "<div>\n",
              "<style scoped>\n",
              "    .dataframe tbody tr th:only-of-type {\n",
              "        vertical-align: middle;\n",
              "    }\n",
              "\n",
              "    .dataframe tbody tr th {\n",
              "        vertical-align: top;\n",
              "    }\n",
              "\n",
              "    .dataframe thead th {\n",
              "        text-align: right;\n",
              "    }\n",
              "</style>\n",
              "<table border=\"1\" class=\"dataframe\">\n",
              "  <thead>\n",
              "    <tr style=\"text-align: right;\">\n",
              "      <th></th>\n",
              "      <th>Id</th>\n",
              "      <th>description</th>\n",
              "      <th>gender</th>\n",
              "      <th>description_lower</th>\n",
              "      <th>description_lemmatized</th>\n",
              "    </tr>\n",
              "  </thead>\n",
              "  <tbody>\n",
              "    <tr>\n",
              "      <th>0</th>\n",
              "      <td>0</td>\n",
              "      <td>She is also a Ronald D. Asmus Policy Entrepre...</td>\n",
              "      <td>F</td>\n",
              "      <td>she is also a ronald d. asmus policy entrepre...</td>\n",
              "      <td>she be also a ronald d. asmus policy entrepr...</td>\n",
              "    </tr>\n",
              "    <tr>\n",
              "      <th>1</th>\n",
              "      <td>1</td>\n",
              "      <td>He is a member of the AICPA and WICPA. Brent ...</td>\n",
              "      <td>M</td>\n",
              "      <td>he is a member of the aicpa and wicpa. brent ...</td>\n",
              "      <td>he be a member of the aicpa and wicpa . bren...</td>\n",
              "    </tr>\n",
              "    <tr>\n",
              "      <th>2</th>\n",
              "      <td>2</td>\n",
              "      <td>Dr. Aster has held teaching and research posi...</td>\n",
              "      <td>M</td>\n",
              "      <td>dr. aster has held teaching and research posi...</td>\n",
              "      <td>dr. aster have hold teach and research posit...</td>\n",
              "    </tr>\n",
              "    <tr>\n",
              "      <th>4</th>\n",
              "      <td>3</td>\n",
              "      <td>He runs a boutique design studio attending cl...</td>\n",
              "      <td>M</td>\n",
              "      <td>he runs a boutique design studio attending cl...</td>\n",
              "      <td>he run a boutique design studio attend clien...</td>\n",
              "    </tr>\n",
              "    <tr>\n",
              "      <th>5</th>\n",
              "      <td>4</td>\n",
              "      <td>He focuses on cloud security, identity and ac...</td>\n",
              "      <td>M</td>\n",
              "      <td>he focuses on cloud security, identity and ac...</td>\n",
              "      <td>he focus on cloud security , identity and ac...</td>\n",
              "    </tr>\n",
              "  </tbody>\n",
              "</table>\n",
              "</div>"
            ],
            "text/plain": [
              "   Id                                        description gender  \\\n",
              "0   0   She is also a Ronald D. Asmus Policy Entrepre...      F   \n",
              "1   1   He is a member of the AICPA and WICPA. Brent ...      M   \n",
              "2   2   Dr. Aster has held teaching and research posi...      M   \n",
              "4   3   He runs a boutique design studio attending cl...      M   \n",
              "5   4   He focuses on cloud security, identity and ac...      M   \n",
              "\n",
              "                                   description_lower  \\\n",
              "0   she is also a ronald d. asmus policy entrepre...   \n",
              "1   he is a member of the aicpa and wicpa. brent ...   \n",
              "2   dr. aster has held teaching and research posi...   \n",
              "4   he runs a boutique design studio attending cl...   \n",
              "5   he focuses on cloud security, identity and ac...   \n",
              "\n",
              "                              description_lemmatized  \n",
              "0    she be also a ronald d. asmus policy entrepr...  \n",
              "1    he be a member of the aicpa and wicpa . bren...  \n",
              "2    dr. aster have hold teach and research posit...  \n",
              "4    he run a boutique design studio attend clien...  \n",
              "5    he focus on cloud security , identity and ac...  "
            ]
          },
          "metadata": {
            "tags": []
          },
          "execution_count": 97
        }
      ]
    },
    {
      "cell_type": "markdown",
      "metadata": {
        "id": "Ipx8k1KS3GvC"
      },
      "source": [
        "Les descriptions ont bien été lemmatizées."
      ]
    },
    {
      "cell_type": "markdown",
      "metadata": {
        "id": "5sV-IaqU3GvD"
      },
      "source": [
        "<h4>Lemmatization du jeu de données test</h4>\n",
        "\n",
        "Ci-dessous on effectue la lemmatization du jeu de données test."
      ]
    },
    {
      "cell_type": "code",
      "metadata": {
        "id": "X1vEyTMx3GvD"
      },
      "source": [
        "# Lemmatisation du jeu de données test\n",
        "\n",
        "vect=[]\n",
        "for i in test_df[\"description_lower\"]:\n",
        "    pos_tagged = nltk.pos_tag(nltk.word_tokenize(i))\n",
        "    wordnet_tagged = list(map(lambda x: (x[0], pos_tagger(x[1])), pos_tagged)) \n",
        "    lemmatized_sentence = \" \"\n",
        "    for word, tag in wordnet_tagged: \n",
        "        if tag is None: \n",
        "            lemmatized_sentence=lemmatized_sentence+\" \"+word \n",
        "        else:         \n",
        "            lemmatized_sentence=lemmatized_sentence+\" \"+lemmatizer.lemmatize(word, tag)\n",
        "\n",
        "    vect.append(lemmatized_sentence)\n",
        "test_df[\"description_lemmatized\"]=vect"
      ],
      "execution_count": null,
      "outputs": []
    },
    {
      "cell_type": "markdown",
      "metadata": {
        "id": "CkcJhART3GvE"
      },
      "source": [
        "<u><h3> b) Les stop words </h3></u>\n",
        "\n",
        "<p style=\"text-align: justify;\">Une autre étape est d'étudier l'impact des stop words et plus particulièrement l'impact de leur présence ou non. Un stop word est un mot très (trop) présent dans le vocabulaire anglais et qui n'aurait ainsi aucun pouvoir discriminant. Par exemple les mots \"the\", \"of\", \"a\" ,\"I\" etc.. sont présents dans une grande majorité de phrases et ne sont donc pas discriminants. Ainsi, on peut supposer que les enlever de nos descriptions présentera un avantage (hormis pour BERT).</p>\n",
        "\n",
        "<p style=\"text-align: justify;\">Cependant l'efficacité de cette technique est très dépendante de l'étape suivante : la représentation de nos mots. Nous verrons par la suite que la méthode qui est en général la plus efficace dans une majorité de problèmes de NLP et qui l'est aussi ici, le TF-IDF, absorbe une grosse partie de l'intérêt d'enlever les stop words, voir que cela peut etre légèrement contre-productif. Nous développerons pourquoi dans la partie liée au TF-IDF. Quoi qu'il en soit le code ci-dessous permet d'aller chercher une liste de mots stop words en anglais et de les retirer de nos descriptions.</p>"
      ]
    },
    {
      "cell_type": "code",
      "metadata": {
        "id": "b7V2vS9A3GvE"
      },
      "source": [
        "stop_words = set(stopwords.words('english'))\n",
        "\n",
        "#stopwords\n",
        "description_text2 = test_df.description_lemmatized\n",
        "test_df[\"description_lemmatized2\"]=test_df[\"description_lemmatized\"]\n",
        "i=0\n",
        "for line in description_text2:  \n",
        "    word_tokens = word_tokenize(line)\n",
        "    filtered_sentence = [w for w in word_tokens if not w in stop_words]\n",
        "    filtered_sentence = []\n",
        "    sent=\"\"\n",
        "    for w in word_tokens:\n",
        "        if w not in stop_words:\n",
        "            filtered_sentence.append(w)\n",
        "            sent=sent+str(w)+\" \"\n",
        "    test_df[\"description_lemmatized2\"][i:i+1] = sent\n",
        "    i=i+1\n",
        "    \n",
        "#stopwords\n",
        "description_text2 = train_df.description_lemmatized\n",
        "train_df[\"description_lemmatized2\"]=train_df[\"description_lemmatized\"]\n",
        "i=0\n",
        "for line in description_text2:  \n",
        "    word_tokens = word_tokenize(line)\n",
        "    filtered_sentence = [w for w in word_tokens if not w in stop_words]\n",
        "    filtered_sentence = []\n",
        "    sent=\"\"\n",
        "    for w in word_tokens:\n",
        "        if w not in stop_words:\n",
        "            filtered_sentence.append(w)\n",
        "            sent=sent+str(w)+\" \"\n",
        "    train_df[\"description_lemmatized2\"][i:i+1] = sent\n",
        "    i=i+1"
      ],
      "execution_count": null,
      "outputs": []
    },
    {
      "cell_type": "markdown",
      "metadata": {
        "id": "eVBcgP9Q3GvE"
      },
      "source": [
        "<p style=\"text-align: justify;\">A l'issue de cette étape les descriptions sont lemmatizées et sans stop words. on peut voir des exemples ci-dessous où la colonne description_lemmatized2 est composée des descriptions lemmatizées et sans stop words :</p>"
      ]
    },
    {
      "cell_type": "code",
      "metadata": {
        "id": "yY2UOKdE3GvE",
        "outputId": "724dff60-5ec8-4968-f76f-3852c502083b"
      },
      "source": [
        "train_df.head()"
      ],
      "execution_count": null,
      "outputs": [
        {
          "output_type": "execute_result",
          "data": {
            "text/html": [
              "<div>\n",
              "<style scoped>\n",
              "    .dataframe tbody tr th:only-of-type {\n",
              "        vertical-align: middle;\n",
              "    }\n",
              "\n",
              "    .dataframe tbody tr th {\n",
              "        vertical-align: top;\n",
              "    }\n",
              "\n",
              "    .dataframe thead th {\n",
              "        text-align: right;\n",
              "    }\n",
              "</style>\n",
              "<table border=\"1\" class=\"dataframe\">\n",
              "  <thead>\n",
              "    <tr style=\"text-align: right;\">\n",
              "      <th></th>\n",
              "      <th>Id</th>\n",
              "      <th>description</th>\n",
              "      <th>gender</th>\n",
              "      <th>description_lower</th>\n",
              "      <th>description_lemmatized</th>\n",
              "      <th>description_lemmatized2</th>\n",
              "    </tr>\n",
              "  </thead>\n",
              "  <tbody>\n",
              "    <tr>\n",
              "      <th>0</th>\n",
              "      <td>0</td>\n",
              "      <td>She is also a Ronald D. Asmus Policy Entrepre...</td>\n",
              "      <td>F</td>\n",
              "      <td>she is also a ronald d. asmus policy entrepre...</td>\n",
              "      <td>she be also a ronald d asmus policy entreprene...</td>\n",
              "      <td>also ronald asmus policy entrepreneur fellow g...</td>\n",
              "    </tr>\n",
              "    <tr>\n",
              "      <th>1</th>\n",
              "      <td>1</td>\n",
              "      <td>He is a member of the AICPA and WICPA. Brent ...</td>\n",
              "      <td>M</td>\n",
              "      <td>he is a member of the aicpa and wicpa. brent ...</td>\n",
              "      <td>he be a member of the aicpa and wicpa brent gr...</td>\n",
              "      <td>member aicpa wicpa brent graduate university w...</td>\n",
              "    </tr>\n",
              "    <tr>\n",
              "      <th>2</th>\n",
              "      <td>2</td>\n",
              "      <td>Dr. Aster has held teaching and research posi...</td>\n",
              "      <td>M</td>\n",
              "      <td>dr. aster has held teaching and research posi...</td>\n",
              "      <td>dr aster have hold teach and research position...</td>\n",
              "      <td>dr aster hold teach research position ben guri...</td>\n",
              "    </tr>\n",
              "    <tr>\n",
              "      <th>4</th>\n",
              "      <td>3</td>\n",
              "      <td>He runs a boutique design studio attending cl...</td>\n",
              "      <td>M</td>\n",
              "      <td>he runs a boutique design studio attending cl...</td>\n",
              "      <td>he run a boutique design studio attend clients...</td>\n",
              "      <td>run boutique design studio attend clients unit...</td>\n",
              "    </tr>\n",
              "    <tr>\n",
              "      <th>5</th>\n",
              "      <td>4</td>\n",
              "      <td>He focuses on cloud security, identity and ac...</td>\n",
              "      <td>M</td>\n",
              "      <td>he focuses on cloud security, identity and ac...</td>\n",
              "      <td>he focus on cloud security identity and access...</td>\n",
              "      <td>focus cloud security identity access managemen...</td>\n",
              "    </tr>\n",
              "  </tbody>\n",
              "</table>\n",
              "</div>"
            ],
            "text/plain": [
              "   Id                                        description gender  \\\n",
              "0   0   She is also a Ronald D. Asmus Policy Entrepre...      F   \n",
              "1   1   He is a member of the AICPA and WICPA. Brent ...      M   \n",
              "2   2   Dr. Aster has held teaching and research posi...      M   \n",
              "4   3   He runs a boutique design studio attending cl...      M   \n",
              "5   4   He focuses on cloud security, identity and ac...      M   \n",
              "\n",
              "                                   description_lower  \\\n",
              "0   she is also a ronald d. asmus policy entrepre...   \n",
              "1   he is a member of the aicpa and wicpa. brent ...   \n",
              "2   dr. aster has held teaching and research posi...   \n",
              "4   he runs a boutique design studio attending cl...   \n",
              "5   he focuses on cloud security, identity and ac...   \n",
              "\n",
              "                              description_lemmatized  \\\n",
              "0  she be also a ronald d asmus policy entreprene...   \n",
              "1  he be a member of the aicpa and wicpa brent gr...   \n",
              "2  dr aster have hold teach and research position...   \n",
              "4  he run a boutique design studio attend clients...   \n",
              "5  he focus on cloud security identity and access...   \n",
              "\n",
              "                             description_lemmatized2  \n",
              "0  also ronald asmus policy entrepreneur fellow g...  \n",
              "1  member aicpa wicpa brent graduate university w...  \n",
              "2  dr aster hold teach research position ben guri...  \n",
              "4  run boutique design studio attend clients unit...  \n",
              "5  focus cloud security identity access managemen...  "
            ]
          },
          "metadata": {
            "tags": []
          },
          "execution_count": 18
        }
      ]
    },
    {
      "cell_type": "markdown",
      "metadata": {
        "id": "CDWTWfgF3GvE"
      },
      "source": [
        "On observe que des mots extrêmement communs en anglais comme les pronoms ou \"the\", \"of\" etc... ne sont simplement plus présent."
      ]
    },
    {
      "cell_type": "markdown",
      "metadata": {
        "id": "iTsbzzov3GvE"
      },
      "source": [
        "<u> <h2><FONT color=\"darkred\"> III - Représentations des mots </FONT></h2> </u>\n",
        "\n",
        "<p style=\"text-align: justify;\">Dans un second temps, après le prétraitement des données, il faut choisir une méthode pour représenter nos descriptions. Plusieurs techniques existent comme les Document Term Matrix (DTM), les Term Frequency - Inverse Document Frequency (TF-IDF), les Word to Vec (W2V) et bien d'autres. Souvent, la représentation TF-IDF permet d'obtenir parmi les meilleurs résultats. Ici nous avons étudié les 3 différentes méthodes afin de les comparer. Nous étudierons les résultats dans la partie suivante, dans cette partie nous étudierons seulement les codes pour les mettre en place et nous décrirons brièvement leurs principes.</p>"
      ]
    },
    {
      "cell_type": "markdown",
      "metadata": {
        "id": "-IICpVhe3GvE"
      },
      "source": [
        "<h3> TF-IDF </h3>\n",
        "\n",
        "<p style=\"text-align: justify;\">La représentation TF-IDF est l'une des plus répandus et produit en général de bons résultats. Il s'agit d'une matrice composée d'autant de lignes qu'il y a de descriptions (documents) et d'autant de colonnes qu'il y a de mots différents dans l'ensemble de ces documents réunis (termes). Pour la construire il faut : compter le nombre d'occurrences de chaque mots dans l'ensemble des documents réunit ainsi que le nombre d'occurence de chaque mots dans chaque description prise une par une.</p>\n",
        "- Ensuite on calcule idf_i=log(D/N) avec D le nombre de documents total du corpus et N le nombre de documents où le terme i apparait.\n",
        "- On calcule tf_i,j= Nombre de fois où le terme i apparait dans le document / Nombre total de termes dans le document.\n",
        "\n",
        "Ensuite on associe à la ligne i et à la colonne j : tfidf_i,j= tf_i,j*idf_i.\n",
        "\n",
        "<p style=\"text-align: justify;\">Les valeurs les plus élevées sont ainsi le reflet du fait que certains mots soient caractéristiques de certains documents et non de tous. On comprend ainsi facilement que les stop words, présents dans une majorité de documents ne seront au final caractéristique de personne. Leur présence ou non importe donc peu ici.</p>"
      ]
    },
    {
      "cell_type": "code",
      "metadata": {
        "id": "5LRTzNZI3GvF",
        "outputId": "91d89d28-d934-4f98-9e5d-9a8b537dddfd"
      },
      "source": [
        "# TF-IDF\n",
        "transformer = TfidfVectorizer().fit(train_df[\"description_lemmatized\"].values)\n",
        "print(\"NB features: %d\" %(len(transformer.vocabulary_)))\n",
        "X_train = transformer.transform(train_df[\"description_lemmatized\"].values)\n",
        "X_test = transformer.transform(test_df[\"description_lemmatized\"].values)"
      ],
      "execution_count": null,
      "outputs": [
        {
          "output_type": "stream",
          "text": [
            "NB features: 220300\n"
          ],
          "name": "stdout"
        }
      ]
    },
    {
      "cell_type": "markdown",
      "metadata": {
        "id": "r5H0eQC13GvF"
      },
      "source": [
        "<p style=\"text-align: justify;\">On observe ici qu'après l'application du TF-IDF nos données sont en dimension 220 300, ce qui est inférieur à la dimension initiale (le nombre de mots différents à l'origine) qui était de 230 000.</p>"
      ]
    },
    {
      "cell_type": "markdown",
      "metadata": {
        "id": "KiAYvstM3GvG"
      },
      "source": [
        "<h3> Word2Vec </h3>\n",
        "\n",
        "<p style=\"text-align: justify;\">La représentation Word2Vec est aussi très utilisée. Il s'agit d'une matrice composée d'autant de lignes qu'il y a de documents différents dans le corpus et d'un nombre de colonnes prédéfinis à l'avance. Dans cette représentation chaque mot est projeté dans un sous espace de plus petite dimension afin de réduire la taille des matrices. On définit une notion de distance et les mots les plus proches sémantiquement parlant sont d'autant plus proche en terme de distance dans cette représentation. En général on projette les mots dans un espace de dimension entre 100 et 300. La représentation d'une description est alors seulement la somme des représentations vectorielles des mots la composant ou parfois quelque chose de plus fin que nous ne détaillerons pas ici.</p>\n",
        "\n",
        "<p style=\"text-align: justify;\">Ainsi, en prenant un exemple proche du notre, dans le cas de 200 000 documents composés de 200 000 mots différents, en projetant les mots dans un sous espace de dimension 300 on peut passer d'une matrice de taille 40 * 10^9 à une matrice de taille 60 * 10^6. Ce gain est énorme. Cependant il s'avère pour la suite que cette représentation est assez couteuse à calculer et ne produit pas des résultats aussi bons que les autres.</p>"
      ]
    },
    {
      "cell_type": "code",
      "metadata": {
        "id": "fVa1qV7t3GvG",
        "outputId": "1393a5f6-84f4-4d3e-b9a5-aada1340764e"
      },
      "source": [
        "import os\n",
        "version = \"2.2.0\"\n",
        "unzip_dest = 'en_core_web_md-{0}.tar/dist/en_core_web_md-{0}/en_core_web_md/en_core_web_md-{0}'.format(version)\n",
        "if not os.path.exists(unzip_dest):\n",
        "    from pyquickhelper.pycode import is_travis_or_appveyor\n",
        "    if not is_travis_or_appveyor():\n",
        "        # On le fait seulement si ce n'est pas un test d'intégration continue.\n",
        "        url = \"https://github.com/explosion/spacy-models/releases/download/en_core_web_md-%s/\" % version\n",
        "        name = \"en_core_web_md-%s.tar.gz\" % version\n",
        "        print(\"Téléchargement de \", name)\n",
        "        from pyensae.datasource import download_data\n",
        "        unzipped = download_data(name, url=url, fLOG=print)\n",
        "        unzip_dest = os.path.split(unzipped[0])[0]\n",
        "        unzip_dest = \"en_core_web_md-{0}/en_core_web_md/en_core_web_md-{0}\".format(version)\n",
        "        print(\"Found\", unzip_dest)\n",
        "\n",
        "if os.path.exists(unzip_dest):\n",
        "    print(\"Chargement des données par spacy.\")\n",
        "    nlp = spacy.load(unzip_dest)\n",
        "    continue_wv = True\n",
        "else:\n",
        "    continue_wv = False\n",
        "    print('Pas de données on passe la suite.')"
      ],
      "execution_count": null,
      "outputs": [
        {
          "output_type": "stream",
          "text": [
            "Téléchargement de  en_core_web_md-2.2.0.tar.gz\n",
            "Found en_core_web_md-2.2.0/en_core_web_md/en_core_web_md-2.2.0\n",
            "Chargement des données par spacy.\n"
          ],
          "name": "stdout"
        }
      ]
    },
    {
      "cell_type": "code",
      "metadata": {
        "id": "pqMgZV4I3GvG",
        "outputId": "2e3aef3f-399f-4633-a161-9c041a0f77ae"
      },
      "source": [
        "import numpy\n",
        "\n",
        "def spacy_sum_vectors(phrase, nlp):\n",
        "    dec = nlp(phrase)\n",
        "    return sum(w.vector for w in dec)\n",
        "\n",
        "def spacy_word2vec_features(X, nlp):\n",
        "    feats = numpy.vstack([spacy_sum_vectors(p, nlp) for p in X])\n",
        "    return feats\n",
        "\n",
        "if continue_wv:\n",
        "    try:\n",
        "        X_train_W2V = spacy_word2vec_features(train_df['description_lemmatized'], nlp)\n",
        "        print(X_train_W2V.shape)\n",
        "    except ValueError as e:\n",
        "        print(e)\n",
        "        continue_wv = False"
      ],
      "execution_count": null,
      "outputs": [
        {
          "output_type": "stream",
          "text": [
            "(217197, 300)\n"
          ],
          "name": "stdout"
        }
      ]
    },
    {
      "cell_type": "markdown",
      "metadata": {
        "id": "O4ALwFpU3GvH"
      },
      "source": [
        "On a bien ici que les différents mots et donc les différentes descriptions ont été envoyés dans un espace de plus petite dimension (300).\n",
        "\n",
        "On s'occupe ensuite du jeu de test:"
      ]
    },
    {
      "cell_type": "code",
      "metadata": {
        "id": "epKAHvLU3GvH"
      },
      "source": [
        "if continue_wv:\n",
        "    try:\n",
        "        X_test_W2V = spacy_word2vec_features(test_df['description_lemmatized'], nlp)\n",
        "    except ValueError as e:\n",
        "        print(e)\n",
        "        continue_wv = False"
      ],
      "execution_count": null,
      "outputs": []
    },
    {
      "cell_type": "markdown",
      "metadata": {
        "id": "nNBCynW43GvH"
      },
      "source": [
        "<h3>DTM</h3>\n",
        "\n",
        "<p style=\"text-align: justify;\">Une autre représentation est la Document Term Matrix, qui est composée d'autant de lignes qu'il y a de documents et d'autant de colonnes qu'il y a de mots différents. Cette représentation consiste simplement à affecter à la ligne i et à la colonne j le nombre d'apparitions du mot j dans le document i. Cette représentation est moins travaillée que TF-IDF et est en général moins efficace. On peut observer la dimension de la matrice résultante ci-dessous :</p>"
      ]
    },
    {
      "cell_type": "code",
      "metadata": {
        "id": "ZDEql2693GvH",
        "outputId": "b63c8b28-3887-4657-ab33-f46dbb8d89c0"
      },
      "source": [
        "X_train_DTM = CountVectorizer().fit_transform(train_df[\"description_lemmatized\"].values)\n",
        "X_train_DTM.shape"
      ],
      "execution_count": null,
      "outputs": [
        {
          "output_type": "execute_result",
          "data": {
            "text/plain": [
              "(217197, 220300)"
            ]
          },
          "metadata": {
            "tags": []
          },
          "execution_count": 106
        }
      ]
    },
    {
      "cell_type": "code",
      "metadata": {
        "id": "k8m1ps213GvI"
      },
      "source": [
        "X_test_DTM = CountVectorizer().fit_transform(test_df[\"description_lemmatized\"].values)"
      ],
      "execution_count": null,
      "outputs": []
    },
    {
      "cell_type": "markdown",
      "metadata": {
        "id": "SDHNZWIQ3GvI"
      },
      "source": [
        "<u> <h2><FONT color=\"darkred\"> IV - Les différentes méthodes étudiées </FONT></h2> </u>\n",
        "\n",
        "<p style=\"text-align: justify;\">Maintenant que les données ont été prétraitées et que des représentations de mots ont été choisies, nous allons étudier différents algorithmes pour classifier nos descriptions. Afin de tester la qualité des algorithmes employés nous effectuerons un découpage apprentissage/validation à l'intérieur du jeu d'apprentissage. Nous apprendrons sur le premier composé d'environ 70% des données d'apprentissage soit environ 150 000 descriptions et nous étudierons la qualité des résultats sur les 30% restants.</p>\n",
        "    \n",
        "<p style=\"text-align: justify;\">La métrique pour mesurer la qualité des résultats sera simplement le pourcentage de prédictions correctes. Il convient de noter pour toute la suite un élément extrêmement important ! Lors d'une soumission sur le kaggle du défi on observe un décalage avec le score de manière permanente d'environ 5 à 5,5%. Cependant sur les 25 soumissions effectuées la hiérachie des résultats des méthodes est toujours restée la même entre l'échantillon de validation et la soumission kaggle. Nous interpréterons les résultats obtenus sur ce notebook en conséquence mais une méthode obtenant de meilleurs résultats ici obtient aussi de meilleurs résultats sur le defia ia et avec un écart de performances très comparables.</p>"
      ]
    },
    {
      "cell_type": "markdown",
      "metadata": {
        "id": "EtBwTD4c3GvI"
      },
      "source": [
        "<h4> Découpage Apprentissage / Validation</h4>"
      ]
    },
    {
      "cell_type": "code",
      "metadata": {
        "id": "OGjBprX43GvJ"
      },
      "source": [
        "#Y_train = train_label.Category.values\n",
        "#train_x,test_x,train_y,test_y = train_test_split(X_train,Y_train,test_size = 0.99)\n",
        "\n",
        "X_train_split_DTM,X_valid_split_DTM,y_train_split_DTM,y_valid_split_DTM = train_test_split(X_train_DTM,train_label.Category.values,test_size = 0.3, random_state=42)\n",
        "X_train_split_TFID,X_valid_split_TFID,y_train_split_TFID,y_valid_split_TFID = train_test_split(X_train,train_label.Category.values,test_size = 0.3, random_state=42)\n",
        "X_train_split_W2V,X_valid_split_W2V,y_train_split_W2V,y_valid_split_W2V = train_test_split(X_train_W2V,train_label.Category.values,test_size = 0.3, random_state=42)\n"
      ],
      "execution_count": null,
      "outputs": []
    },
    {
      "cell_type": "markdown",
      "metadata": {
        "id": "gfRP7vp23GvJ"
      },
      "source": [
        "<p style=\"text-align: justify;\">Nous allons donc dans une première partie étudier les méthodes de Régression logistique, SVM, des forêts aléatoires, du SGDC et Naive Bayes. Nous avons aussi étudier XGB, Bernoulli Naive Bayes et les KNN mais ils ne produisent pas de bons résultats et sont longs à faire tourner, pour des soucis de lisibilité nous les avons donc enlevé. Pour la régression logistique nous étudierons une alternative avec de la validaion croisée. Toutes ces méthodes seront étudiées de manière succincte pour présenter seulement leurs résultats afin de présenter plus en profondeur par la suite la méthode qui les dépasse toutes par une marge significative : BERT</p>"
      ]
    },
    {
      "cell_type": "code",
      "metadata": {
        "id": "YeHxBMbL3GvJ"
      },
      "source": [
        "from sklearn.linear_model import LogisticRegression\n",
        "from sklearn.linear_model import LogisticRegressionCV\n",
        "from sklearn.naive_bayes import MultinomialNB\n",
        "from sklearn.linear_model import SGDClassifier\n",
        "from sklearn.svm import LinearSVC\n",
        "from sklearn.neighbors import KNeighborsClassifier\n",
        "from sklearn.ensemble import RandomForestClassifier\n",
        "from xgboost import XGBClassifier\n",
        "\n",
        "\n",
        "nb = X_train_split_TFID.shape[0]\n",
        "\n",
        "#Reression Logistique\n",
        "model_DTM_RL = LogisticRegression(solver='saga')\n",
        "model_TFID_RL = LogisticRegression(solver='saga')\n",
        "model_W2V_RL = LogisticRegression(solver='saga')\n",
        "\n",
        "\n",
        "#Regression logistique CV\n",
        "model_DTM_RLCV = LogisticRegressionCV(penalty=\"l2\",solver='saga',cv=3,max_iter=5)\n",
        "model_TFID_RLCV = LogisticRegressionCV(penalty=\"l2\",solver='saga',cv=3,max_iter=5)\n",
        "model_W2V_RLCV = LogisticRegressionCV(penalty=\"l2\",solver='saga',cv=3,max_iter=5)\n",
        "\n",
        "\n",
        "#Naive Bayes\n",
        "model_DTM_NB = MultinomialNB(alpha=0.05)\n",
        "model_TFID_NB = MultinomialNB(alpha=0.007)\n",
        "\n",
        "\n",
        "#SVC\n",
        "model_DTM_SVC =LinearSVC(loss='hinge',multi_class='ovr')\n",
        "model_TFID_SVC =LinearSVC(loss='hinge',multi_class='ovr')\n",
        "model_W2V_SVC =LinearSVC(loss='hinge',multi_class='ovr')\n",
        "\n",
        "\n",
        "#SGDC\n",
        "model_DTM_SGDC=SGDClassifier(loss='hinge', penalty='l2', alpha=0.00001, l1_ratio=0.85, fit_intercept=True, max_iter=1000,tol=0.001)\n",
        "model_TFID_SGDC=SGDClassifier(loss='hinge', penalty='l2', alpha=0.00001, l1_ratio=0.85, fit_intercept=True, max_iter=1000,tol=0.001)\n",
        "model_W2V_SGDC=SGDClassifier(loss='hinge', penalty='l2', alpha=0.00001, l1_ratio=0.85, fit_intercept=True, max_iter=1000,tol=0.001)\n",
        "\n",
        "\n",
        "#Forêts aléatoires\n",
        "model_DTM_RF =RandomForestClassifier(n_estimators=30,max_features=10000)\n",
        "model_TFID_RF =RandomForestClassifier(n_estimators=30,max_features=10000)\n",
        "model_W2V_RF =RandomForestClassifier(n_estimators=30,max_features=20)"
      ],
      "execution_count": null,
      "outputs": []
    },
    {
      "cell_type": "code",
      "metadata": {
        "id": "eB3pzTBQ3GvJ",
        "outputId": "88d49426-79b6-4a17-9e71-f4d6cd463006"
      },
      "source": [
        "#fitting\n",
        "model_DTM_RL.fit(X_train_split_DTM[0:nb,:], y_train_split_DTM[0:nb])\n",
        "model_TFID_RL.fit(X_train_split_TFID[0:nb,:], y_train_split_TFID[0:nb])\n",
        "model_W2V_RL.fit(X_train_split_W2V[0:nb,:], y_train_split_W2V[0:nb])"
      ],
      "execution_count": null,
      "outputs": [
        {
          "output_type": "execute_result",
          "data": {
            "text/plain": [
              "LogisticRegression(C=1.0, class_weight=None, dual=False, fit_intercept=True,\n",
              "                   intercept_scaling=1, l1_ratio=None, max_iter=100,\n",
              "                   multi_class='auto', n_jobs=None, penalty='l2',\n",
              "                   random_state=None, solver='saga', tol=0.0001, verbose=0,\n",
              "                   warm_start=False)"
            ]
          },
          "metadata": {
            "tags": []
          },
          "execution_count": 170
        }
      ]
    },
    {
      "cell_type": "code",
      "metadata": {
        "id": "apSe31-C3GvK",
        "outputId": "f10b1e9e-9d8a-4e7c-e300-28850ec1b4c8"
      },
      "source": [
        "model_DTM_RLCV.fit(X_train_split_DTM[0:nb,:], y_train_split_DTM[0:nb])\n",
        "model_TFID_RLCV.fit(X_train_split_TFID[0:nb,:], y_train_split_TFID[0:nb])\n",
        "model_W2V_RLCV.fit(X_train_split_W2V[0:nb,:], y_train_split_W2V[0:nb])"
      ],
      "execution_count": null,
      "outputs": [
        {
          "output_type": "execute_result",
          "data": {
            "text/plain": [
              "LogisticRegressionCV(Cs=10, class_weight=None, cv=3, dual=False,\n",
              "                     fit_intercept=True, intercept_scaling=1.0, l1_ratios=None,\n",
              "                     max_iter=5, multi_class='auto', n_jobs=None, penalty='l2',\n",
              "                     random_state=None, refit=True, scoring=None, solver='saga',\n",
              "                     tol=0.0001, verbose=0)"
            ]
          },
          "metadata": {
            "tags": []
          },
          "execution_count": 189
        }
      ]
    },
    {
      "cell_type": "code",
      "metadata": {
        "id": "cRod8AIg3GvK",
        "outputId": "c3fb9aa6-cea8-4c48-e192-80f06cf0403b"
      },
      "source": [
        "model_DTM_NB.fit(X_train_split_DTM[0:nb,:], y_train_split_DTM[0:nb])\n",
        "model_TFID_NB.fit(X_train_split_TFID[0:nb,:], y_train_split_TFID[0:nb])"
      ],
      "execution_count": null,
      "outputs": [
        {
          "output_type": "execute_result",
          "data": {
            "text/plain": [
              "MultinomialNB(alpha=0.007, class_prior=None, fit_prior=True)"
            ]
          },
          "metadata": {
            "tags": []
          },
          "execution_count": 193
        }
      ]
    },
    {
      "cell_type": "code",
      "metadata": {
        "id": "XDEoBD6a3GvL",
        "outputId": "0d644f66-893b-465c-ef80-18de85f4a41e"
      },
      "source": [
        "model_DTM_SVC.fit(X_train_split_DTM[0:nb,:], y_train_split_DTM[0:nb])\n",
        "model_TFID_SVC.fit(X_train_split_TFID[0:nb,:], y_train_split_TFID[0:nb])\n",
        "model_W2V_SVC.fit(X_train_split_W2V[0:nb,:], y_train_split_W2V[0:nb])"
      ],
      "execution_count": null,
      "outputs": [
        {
          "output_type": "execute_result",
          "data": {
            "text/plain": [
              "LinearSVC(C=1.0, class_weight=None, dual=True, fit_intercept=True,\n",
              "          intercept_scaling=1, loss='hinge', max_iter=1000, multi_class='ovr',\n",
              "          penalty='l2', random_state=None, tol=0.0001, verbose=0)"
            ]
          },
          "metadata": {
            "tags": []
          },
          "execution_count": 197
        }
      ]
    },
    {
      "cell_type": "code",
      "metadata": {
        "id": "1E7AEVrH3GvL",
        "outputId": "48e77297-7949-4b6f-ba4c-25d30234b5cd"
      },
      "source": [
        "model_DTM_SGDC.fit(X_train_split_DTM[0:nb,:], y_train_split_DTM[0:nb])\n",
        "model_TFID_SGDC.fit(X_train_split_TFID[0:nb,:], y_train_split_TFID[0:nb])\n",
        "model_W2V_SGDC.fit(X_train_split_W2V[0:nb,:], y_train_split_W2V[0:nb])"
      ],
      "execution_count": null,
      "outputs": [
        {
          "output_type": "execute_result",
          "data": {
            "text/plain": [
              "SGDClassifier(alpha=1e-05, average=False, class_weight=None,\n",
              "              early_stopping=False, epsilon=0.1, eta0=0.0, fit_intercept=True,\n",
              "              l1_ratio=0.85, learning_rate='optimal', loss='hinge',\n",
              "              max_iter=1000, n_iter_no_change=5, n_jobs=None, penalty='l2',\n",
              "              power_t=0.5, random_state=None, shuffle=True, tol=0.001,\n",
              "              validation_fraction=0.1, verbose=0, warm_start=False)"
            ]
          },
          "metadata": {
            "tags": []
          },
          "execution_count": 203
        }
      ]
    },
    {
      "cell_type": "code",
      "metadata": {
        "id": "3g4wxalv3GvL",
        "outputId": "eb9ff22e-9eca-479d-9ba3-a7b82cb36721"
      },
      "source": [
        "model_DTM_RF.fit(X_train_split_DTM[0:nb,:], y_train_split_DTM[0:nb])\n",
        "model_TFID_RF.fit(X_train_split_TFID[0:nb,:], y_train_split_TFID[0:nb])\n",
        "model_W2V_RF.fit(X_train_split_W2V[0:nb,:], y_train_split_W2V[0:nb])"
      ],
      "execution_count": null,
      "outputs": [
        {
          "output_type": "execute_result",
          "data": {
            "text/plain": [
              "RandomForestClassifier(bootstrap=True, ccp_alpha=0.0, class_weight=None,\n",
              "                       criterion='gini', max_depth=None, max_features=20,\n",
              "                       max_leaf_nodes=None, max_samples=None,\n",
              "                       min_impurity_decrease=0.0, min_impurity_split=None,\n",
              "                       min_samples_leaf=1, min_samples_split=2,\n",
              "                       min_weight_fraction_leaf=0.0, n_estimators=30,\n",
              "                       n_jobs=None, oob_score=False, random_state=None,\n",
              "                       verbose=0, warm_start=False)"
            ]
          },
          "metadata": {
            "tags": []
          },
          "execution_count": 218
        }
      ]
    },
    {
      "cell_type": "code",
      "metadata": {
        "id": "ivryz8Oc3GvL"
      },
      "source": [
        "#Les prédictions\n",
        "y_pred_split_DTM_RL = model_DTM_RL.predict(X_valid_split_DTM)\n",
        "y_pred_split_TFID_RL = model_TFID_RL.predict(X_valid_split_TFID)\n",
        "y_pred_split_W2V_RL = model_W2V_RL.predict(X_valid_split_W2V)"
      ],
      "execution_count": null,
      "outputs": []
    },
    {
      "cell_type": "code",
      "metadata": {
        "id": "nCb-Hb0a3GvM"
      },
      "source": [
        "y_pred_split_DTM_RLCV = model_DTM_RLCV.predict(X_valid_split_DTM)\n",
        "y_pred_split_TFID_RLCV = model_TFID_RLCV.predict(X_valid_split_TFID)\n",
        "y_pred_split_W2V_RLCV = model_W2V_RLCV.predict(X_valid_split_W2V)"
      ],
      "execution_count": null,
      "outputs": []
    },
    {
      "cell_type": "code",
      "metadata": {
        "id": "pR-U5DZ53GvM"
      },
      "source": [
        "y_pred_split_DTM_NB = model_DTM_NB.predict(X_valid_split_DTM)\n",
        "y_pred_split_TFID_NB = model_TFID_NB.predict(X_valid_split_TFID)"
      ],
      "execution_count": null,
      "outputs": []
    },
    {
      "cell_type": "code",
      "metadata": {
        "id": "7sKFIJX53GvM"
      },
      "source": [
        "y_pred_split_DTM_SVC = model_DTM_SVC.predict(X_valid_split_DTM)\n",
        "y_pred_split_TFID_SVC = model_TFID_SVC.predict(X_valid_split_TFID)\n",
        "y_pred_split_W2V_SVC = model_W2V_SVC.predict(X_valid_split_W2V)"
      ],
      "execution_count": null,
      "outputs": []
    },
    {
      "cell_type": "code",
      "metadata": {
        "id": "eoEfGMB13GvN"
      },
      "source": [
        "y_pred_split_DTM_SGDC = model_DTM_SGDC.predict(X_valid_split_DTM)\n",
        "y_pred_split_TFID_SGDC = model_TFID_SGDC.predict(X_valid_split_TFID)\n",
        "y_pred_split_W2V_SGDC = model_W2V_SGDC.predict(X_valid_split_W2V)"
      ],
      "execution_count": null,
      "outputs": []
    },
    {
      "cell_type": "code",
      "metadata": {
        "id": "zblp7Wr_3GvN"
      },
      "source": [
        "y_pred_split_DTM_RF = model_DTM_RF.predict(X_valid_split_DTM)\n",
        "y_pred_split_TFID_RF = model_TFID_RF.predict(X_valid_split_TFID)\n",
        "y_pred_split_W2V_RF = model_W2V_RF.predict(X_valid_split_W2V)"
      ],
      "execution_count": null,
      "outputs": []
    },
    {
      "cell_type": "code",
      "metadata": {
        "id": "KtxVcPkd3GvN"
      },
      "source": [
        "# DTM\n",
        "DTM_RL=sum(np.array(y_pred_split_DTM_RL == y_valid_split_DTM,dtype=int))/len(y_valid_split_DTM)\n",
        "DTM_RLCV=sum(np.array(y_pred_split_DTM_RLCV == y_valid_split_DTM,dtype=int))/len(y_valid_split_DTM)\n",
        "DTM_NB=sum(np.array(y_pred_split_DTM_NB == y_valid_split_DTM,dtype=int))/len(y_valid_split_DTM)\n",
        "DTM_SVC=sum(np.array(y_pred_split_DTM_SVC == y_valid_split_DTM,dtype=int))/len(y_valid_split_DTM)\n",
        "DTM_SGDC=sum(np.array(y_pred_split_DTM_SGDC == y_valid_split_DTM,dtype=int))/len(y_valid_split_DTM)\n",
        "DTM_RF=sum(np.array(y_pred_split_DTM_RF == y_valid_split_DTM,dtype=int))/len(y_valid_split_DTM)\n",
        "\n",
        "# TFID\n",
        "TFID_RL=sum(np.array(y_pred_split_TFID_RL == y_valid_split_TFID,dtype=int))/len(y_valid_split_TFID)\n",
        "TFID_RLCV=sum(np.array(y_pred_split_TFID_RLCV == y_valid_split_TFID,dtype=int))/len(y_valid_split_TFID)\n",
        "TFID_NB=sum(np.array(y_pred_split_TFID_NB == y_valid_split_TFID,dtype=int))/len(y_valid_split_TFID)\n",
        "TFID_SVC=sum(np.array(y_pred_split_TFID_SVC == y_valid_split_TFID,dtype=int))/len(y_valid_split_TFID)\n",
        "TFID_SGDC=sum(np.array(y_pred_split_TFID_SGDC == y_valid_split_TFID,dtype=int))/len(y_valid_split_TFID)\n",
        "TFID_RF=sum(np.array(y_pred_split_TFID_RF == y_valid_split_TFID,dtype=int))/len(y_valid_split_TFID)\n",
        "\n",
        "#W2V\n",
        "W2V_RL=sum(np.array(y_pred_split_W2V_RL == y_valid_split_W2V,dtype=int))/len(y_valid_split_W2V)\n",
        "W2V_RLCV=sum(np.array(y_pred_split_W2V_RLCV == y_valid_split_W2V,dtype=int))/len(y_valid_split_W2V)\n",
        "W2V_SVC=sum(np.array(y_pred_split_W2V_SVC == y_valid_split_W2V,dtype=int))/len(y_valid_split_W2V)\n",
        "W2V_SGDC=sum(np.array(y_pred_split_W2V_SGDC == y_valid_split_W2V,dtype=int))/len(y_valid_split_W2V)\n",
        "W2V_RF=sum(np.array(y_pred_split_W2V_RF == y_valid_split_W2V,dtype=int))/len(y_valid_split_W2V)"
      ],
      "execution_count": null,
      "outputs": []
    },
    {
      "cell_type": "code",
      "metadata": {
        "id": "VpBMP2ZS3GvN",
        "outputId": "ffe8fae7-5491-4f56-af93-48b4a24a13e2"
      },
      "source": [
        "d = {'Regression Logistique': [DTM_RL, TFID_RL,W2V_RL], 'Regression Logistique_CV': [DTM_RLCV, TFID_RLCV,W2V_RLCV], \n",
        "     'Naive Bayes': [DTM_NB, TFID_NB,0], 'SVC': [DTM_SVC, TFID_SVC,W2V_SVC], \n",
        "     'SGDC': [DTM_SGDC, TFID_SGDC,W2V_SGDC], 'Random Forest': [DTM_RF, TFID_RF,W2V_RF]}\n",
        "\n",
        "resultats = pd.DataFrame(data=d,\n",
        "                 index=['DTM', 'TF-IDF', 'W2V'])\n",
        "\n",
        "def color_negative_red(val):\n",
        "    if val>0.80:\n",
        "        color='blue'\n",
        "    elif val>0.75:\n",
        "        color=\"black\"\n",
        "    elif val==0:\n",
        "        color='white'\n",
        "    else:\n",
        "        color=\"red\"\n",
        "    return 'color: %s' % color\n",
        "\n",
        "resultats.style.applymap(color_negative_red)\n",
        "\n",
        "#df"
      ],
      "execution_count": null,
      "outputs": [
        {
          "output_type": "execute_result",
          "data": {
            "text/html": [
              "<style  type=\"text/css\" >\n",
              "    #T_51a0a8ca_55e8_11eb_880e_c0e434e9db00row0_col0 {\n",
              "            color:  black;\n",
              "        }    #T_51a0a8ca_55e8_11eb_880e_c0e434e9db00row0_col1 {\n",
              "            color:  black;\n",
              "        }    #T_51a0a8ca_55e8_11eb_880e_c0e434e9db00row0_col2 {\n",
              "            color:  red;\n",
              "        }    #T_51a0a8ca_55e8_11eb_880e_c0e434e9db00row0_col3 {\n",
              "            color:  black;\n",
              "        }    #T_51a0a8ca_55e8_11eb_880e_c0e434e9db00row0_col4 {\n",
              "            color:  black;\n",
              "        }    #T_51a0a8ca_55e8_11eb_880e_c0e434e9db00row0_col5 {\n",
              "            color:  red;\n",
              "        }    #T_51a0a8ca_55e8_11eb_880e_c0e434e9db00row1_col0 {\n",
              "            color:  black;\n",
              "        }    #T_51a0a8ca_55e8_11eb_880e_c0e434e9db00row1_col1 {\n",
              "            color:  black;\n",
              "        }    #T_51a0a8ca_55e8_11eb_880e_c0e434e9db00row1_col2 {\n",
              "            color:  red;\n",
              "        }    #T_51a0a8ca_55e8_11eb_880e_c0e434e9db00row1_col3 {\n",
              "            color:  blue;\n",
              "        }    #T_51a0a8ca_55e8_11eb_880e_c0e434e9db00row1_col4 {\n",
              "            color:  blue;\n",
              "        }    #T_51a0a8ca_55e8_11eb_880e_c0e434e9db00row1_col5 {\n",
              "            color:  red;\n",
              "        }    #T_51a0a8ca_55e8_11eb_880e_c0e434e9db00row2_col0 {\n",
              "            color:  black;\n",
              "        }    #T_51a0a8ca_55e8_11eb_880e_c0e434e9db00row2_col1 {\n",
              "            color:  black;\n",
              "        }    #T_51a0a8ca_55e8_11eb_880e_c0e434e9db00row2_col2 {\n",
              "            color:  white;\n",
              "        }    #T_51a0a8ca_55e8_11eb_880e_c0e434e9db00row2_col3 {\n",
              "            color:  red;\n",
              "        }    #T_51a0a8ca_55e8_11eb_880e_c0e434e9db00row2_col4 {\n",
              "            color:  red;\n",
              "        }    #T_51a0a8ca_55e8_11eb_880e_c0e434e9db00row2_col5 {\n",
              "            color:  red;\n",
              "        }</style><table id=\"T_51a0a8ca_55e8_11eb_880e_c0e434e9db00\" ><thead>    <tr>        <th class=\"blank level0\" ></th>        <th class=\"col_heading level0 col0\" >Regression Logistique</th>        <th class=\"col_heading level0 col1\" >Regression Logistique_CV</th>        <th class=\"col_heading level0 col2\" >Naive Bayes</th>        <th class=\"col_heading level0 col3\" >SVC</th>        <th class=\"col_heading level0 col4\" >SGDC</th>        <th class=\"col_heading level0 col5\" >Random Forest</th>    </tr></thead><tbody>\n",
              "                <tr>\n",
              "                        <th id=\"T_51a0a8ca_55e8_11eb_880e_c0e434e9db00level0_row0\" class=\"row_heading level0 row0\" >DTM</th>\n",
              "                        <td id=\"T_51a0a8ca_55e8_11eb_880e_c0e434e9db00row0_col0\" class=\"data row0 col0\" >0.788352</td>\n",
              "                        <td id=\"T_51a0a8ca_55e8_11eb_880e_c0e434e9db00row0_col1\" class=\"data row0 col1\" >0.792127</td>\n",
              "                        <td id=\"T_51a0a8ca_55e8_11eb_880e_c0e434e9db00row0_col2\" class=\"data row0 col2\" >0.71415</td>\n",
              "                        <td id=\"T_51a0a8ca_55e8_11eb_880e_c0e434e9db00row0_col3\" class=\"data row0 col3\" >0.755233</td>\n",
              "                        <td id=\"T_51a0a8ca_55e8_11eb_880e_c0e434e9db00row0_col4\" class=\"data row0 col4\" >0.763674</td>\n",
              "                        <td id=\"T_51a0a8ca_55e8_11eb_880e_c0e434e9db00row0_col5\" class=\"data row0 col5\" >0.747176</td>\n",
              "            </tr>\n",
              "            <tr>\n",
              "                        <th id=\"T_51a0a8ca_55e8_11eb_880e_c0e434e9db00level0_row1\" class=\"row_heading level0 row1\" >TF-IDF</th>\n",
              "                        <td id=\"T_51a0a8ca_55e8_11eb_880e_c0e434e9db00row1_col0\" class=\"data row1 col0\" >0.791667</td>\n",
              "                        <td id=\"T_51a0a8ca_55e8_11eb_880e_c0e434e9db00row1_col1\" class=\"data row1 col1\" >0.796532</td>\n",
              "                        <td id=\"T_51a0a8ca_55e8_11eb_880e_c0e434e9db00row1_col2\" class=\"data row1 col2\" >0.705479</td>\n",
              "                        <td id=\"T_51a0a8ca_55e8_11eb_880e_c0e434e9db00row1_col3\" class=\"data row1 col3\" >0.802118</td>\n",
              "                        <td id=\"T_51a0a8ca_55e8_11eb_880e_c0e434e9db00row1_col4\" class=\"data row1 col4\" >0.801366</td>\n",
              "                        <td id=\"T_51a0a8ca_55e8_11eb_880e_c0e434e9db00row1_col5\" class=\"data row1 col5\" >0.74202</td>\n",
              "            </tr>\n",
              "            <tr>\n",
              "                        <th id=\"T_51a0a8ca_55e8_11eb_880e_c0e434e9db00level0_row2\" class=\"row_heading level0 row2\" >W2V</th>\n",
              "                        <td id=\"T_51a0a8ca_55e8_11eb_880e_c0e434e9db00row2_col0\" class=\"data row2 col0\" >0.756845</td>\n",
              "                        <td id=\"T_51a0a8ca_55e8_11eb_880e_c0e434e9db00row2_col1\" class=\"data row2 col1\" >0.753852</td>\n",
              "                        <td id=\"T_51a0a8ca_55e8_11eb_880e_c0e434e9db00row2_col2\" class=\"data row2 col2\" >0</td>\n",
              "                        <td id=\"T_51a0a8ca_55e8_11eb_880e_c0e434e9db00row2_col3\" class=\"data row2 col3\" >0.554082</td>\n",
              "                        <td id=\"T_51a0a8ca_55e8_11eb_880e_c0e434e9db00row2_col4\" class=\"data row2 col4\" >0.651872</td>\n",
              "                        <td id=\"T_51a0a8ca_55e8_11eb_880e_c0e434e9db00row2_col5\" class=\"data row2 col5\" >0.63453</td>\n",
              "            </tr>\n",
              "    </tbody></table>"
            ],
            "text/plain": [
              "<pandas.io.formats.style.Styler at 0x2a137f90108>"
            ]
          },
          "metadata": {
            "tags": []
          },
          "execution_count": 226
        }
      ]
    },
    {
      "cell_type": "markdown",
      "metadata": {
        "id": "C5Y09jcQ3GvN"
      },
      "source": [
        "<p style=\"text-align: justify;\">On peut observer de manière synthétique que le TF-IDF est pour toutes les méthodes ou presque la méthode la plus efficace. Les trois méthodes produisant les meilleurs résultats sont la régression logistique en validation croisée ainsi que SVC et SGDC. Il convient de mentionner que nous avons optimisé (de manière empirique) les différents paramètres des différentes fonctions hormis ceux de la forêts aléatoires qu'il est difficile de pousser plus loin pour des raisons de cout computationnel. Pour Naive Bayes Nous n'avons pas fait la technique W2V qui de toute manière ne semble pas intéressante.</p>\n",
        "\n",
        "<p style=\"text-align: justify;\">Les méthodes SVC et SGDC produisent des résultats très proche car l'idée générale est proche, en réalité pour SGDC il s'agit d'un SVM avec la technique de la descente de gradient stochastique.</p>\n",
        "\n",
        "<p style=\"text-align: justify;\">Lors des rendus des différents résultats sur le kaggle du defi IA, la regression logistique CV ainsi que les SVC et SGDC pouvait atteindre des scores supérieurs à 0.74 voir 0.75.</p>\n",
        "\n",
        "<p style=\"text-align: justify;\">Notre meilleure soumission de ce côté-là a donc été SGDC qui a produit un score aux alentours de 0.75. Il convient ensuite de réentrainer le modèle sur toutes les données d'entrainement, de prédire sur les données test et d'enregistrer les résultats sous la forme d'un csv, ce que nous ferons plutôt dans la partie suivante car toutes ces méthodes ne produisent pas des résultats aussi bon que la suivante : BERT</p>\n",
        "\n"
      ]
    },
    {
      "cell_type": "markdown",
      "metadata": {
        "id": "YMwnrU0V3GvN"
      },
      "source": [
        "<u> <h2><FONT color=\"darkred\"> IV)2 - BERT & ROBERTA </FONT></h2> </u>\n",
        "\n",
        "\n",
        "<center><img src=\"https://miro.medium.com/max/2400/0*x3vhaoJdGndvZqmL.png\" alt=\"exemple de texte alternatif\" width=300px /></center>\n",
        "\n",
        "<p style=\"text-align: justify;\">Désormais nous allons nous intéresser à un algorithme assez récent qui est réputé pour avoir été la plus grande percée dans le domaine des NLP depuis plusieurs années et produire les meilleurs résultats.</p>\n",
        "    \n",
        "<p style=\"text-align: justify;\">Dans le cadre de l'UE \"Lecture d'articles et de documents scientifiques\", nous avons eu à réaliser une synthèse d'un article scientifique. Notre groupe a choisi de s'intéresser à BERT et en particulier à TANDA, la dernière avancée concernant BERT dans le domaine QA : Questions-réponses, le type d'algorithmes utilisé dans les enceintes connectées d'Amazon et Google. Ici, le problème n'est pas exactement le même mais nous mettons à disposition notre synthèse de 4 pages sur le sujet dont une grosse première partie (page 1 pour les pré-requis et page 2 pour BERT) explique de manière détaillé le principe de fonctionnement de BERT :</p>"
      ]
    },
    {
      "cell_type": "markdown",
      "metadata": {
        "id": "VFZZZYjf3GvO"
      },
      "source": [
        "<u><h3><FONT color=\"darkgreen\"> Notre synthèse :</FONT></h3></u>\n",
        "\n",
        "<img\n",
        "    src=\"./GUERIN_LABORDE_TANDA_LADS-1.jpg\"\n",
        "    style=\"border:solid 2px #000000;\"\n",
        "    alt=\"GUERIN_LABORDE_BERT\"\n",
        "    height=\"1000px\"\n",
        "    width=\"800px\"\n",
        "/>\n",
        "<img\n",
        "    src=\"./GUERIN_LABORDE_TANDA_LADS-2.jpg\"\n",
        "    style=\"border:solid 2px #000000;\"\n",
        "    alt=\"GUERIN_LABORDE_BERT\"\n",
        "    height=\"1000px\"\n",
        "    width=\"800px\"\n",
        "/>\n",
        "<img\n",
        "    src=\"./GUERIN_LABORDE_TANDA_LADS-3.jpg\"\n",
        "    style=\"border:solid 2px #000000;\"\n",
        "    alt=\"GUERIN_LABORDE_BERT\"\n",
        "    height=\"1000px\"\n",
        "    width=\"800px\"\n",
        "/>\n",
        "<img\n",
        "    src=\"./GUERIN_LABORDE_TANDA_LADS-4.jpg\"\n",
        "    style=\"border:solid 2px #000000;\"\n",
        "    alt=\"GUERIN_LABORDE_BERT\"\n",
        "    height=\"1000px\"\n",
        "    width=\"800px\"\n",
        "/>"
      ]
    },
    {
      "cell_type": "code",
      "metadata": {
        "scrolled": false,
        "id": "M_HP3Hm_3GvO"
      },
      "source": [
        "#from IPython.display import IFrame\n",
        "#IFrame(\"./GUERIN_LABORDE_TANDA_LADS.pdf\", width=900, height=3720)"
      ],
      "execution_count": null,
      "outputs": []
    },
    {
      "cell_type": "markdown",
      "metadata": {
        "id": "dplzYQHi3GvO"
      },
      "source": [
        "<p style=\"text-align: justify;\">Cependant l'implémentation de cette tache particulière pour BERT est totalement différente de tout ce que l'on avait pu voir jusqu'à présent et a été difficile à adapter, nous n'avons réussi que vers la fin du projet.</p>\n",
        "\n",
        "<p style=\"text-align: justify;\">Nous allons effectuer un résumé rapide de ce en quoi consiste BERT. Il s'agit d'une version particulière des Transformers. Les Transformers sont des réseaux de neurones qui prennent en entrée les Embeddings d'une phrase (très similaire aux words 2 Vec) et agissent dessus en effectuant des couches de neurones de type \"add&Norm\", \"feed forward\" et \"multi-head attention\" (expliqué en détails en p.2 de notre synthèse). Ensuite via des fonctions de sorties particulières les Transformers sont capables calculer des probabilités pour une phrase donnée d'appartenir à telle ou telle classe.</p>\n",
        "\n",
        "<p style=\"text-align: justify;\">BERT est ainsi une version particulière des Transformers auxquels on aurait retiré la partie \"Decoding\". Etant donné la complexité de l'entrainement de BERT et de la quantité de données nécessaires seules quelques entreprises et instituts dans le monde peuvent se le permettre, en effet BERT a été entrainé sur 16 Gigas de de données en texte brut et a couté plus de 250 000 dollars. Des versions améliorées de BERT existent et sont entrainés sur encore plus de données comme BERT-Large, XL-net, RoBERTa, RoBERTa-Large, etc... .</p>\n",
        "\n",
        "<p style=\"text-align: justify;\">Dans les faits, on se sert donc en général de ces modèles pré-entrainés et on applique ce qu'on appele un fine-tuning qui consiste à adapter nos modèles pré-entrainés à nos données particulières. C'est ce que nous faisons dans la suite en adaptant un modèle pré-entrainé de BERT, dans sa version adapté à la classification de phrases (BERTforSequenceClassification), à nos descriptions sur des personnes afin de trouver le métier y correspondant.</p>\n",
        "\n",
        "<p style=\"text-align: justify;\">Nous utilisons ici deux modèles différents BERT-base et Roberta-base.</p>\n",
        "\n",
        "\n",
        "<h3>Point d'attention !</h3>\n",
        "<p style=\"text-align: justify;\">Il convient de noter que ce code ne peut pas vraiment être lancé sur une machine locale personnelle, nous l'avons exécuté depuis Google Colab en utilisant les cartes graphiques professionelles qu'ils mettent à disposition. Les sorties ne sont donc pas présentes ici mais nous joignons un .ipynb sur lesquelles elles le sont en plus de ce notebook.</p>\n",
        "\n",
        "<h3>Deuxième Point d'attention !</h3>\n",
        "<p style=\"text-align: justify;\">Ce code a été adapté de celui d'une personne/site web qui est cité dans la bibliographie. Nous avons adapté celui-ci à nos données et à notre type de problème, rajouté une version pour utiliser RoBERTa et rajouté tous les commentaires de codes en français afin qu'il soit plus compréhensible.</p>\n",
        "\n",
        "Ci-dessous le sommaire de cette partie afin de s'y retrouver :"
      ]
    },
    {
      "cell_type": "markdown",
      "metadata": {
        "id": "-NUV74px3GvO"
      },
      "source": [
        "<h2><u>Sommaire :</u></h2>\n",
        "<ul>\n",
        "  <li> Importation </li>\n",
        "  <li> Configuration des données </li>\n",
        "  <li> Configuration du modèle </li>\n",
        "  <li> Entrainement du modèle </li>\n",
        "  <li> Prédictions </li>\n",
        "  <li> Comparaison des prédictions de différents modèles </li>\n",
        "  <li> Bibliographie </li>\n",
        "</ul>\n"
      ]
    },
    {
      "cell_type": "markdown",
      "metadata": {
        "id": "kt1f92db3GvP"
      },
      "source": [
        "<u> <h2><FONT color=\"darkred\"> I - Importation </FONT></h2> </u>\n",
        "\n",
        "<u><h3><FONT color=\"darkgreen\"> A - Importation des packages </FONT></h3></u>\n",
        "\n",
        "Nous installons les packages manquants transformers et wget. Puis il faut **importer** tous **les packages** pour la suite."
      ]
    },
    {
      "cell_type": "code",
      "metadata": {
        "id": "TlgFMB0A3GvP"
      },
      "source": [
        "#Installation \n",
        "!pip install transformers\n",
        "!pip install wget\n",
        "\n",
        "#Import \n",
        "import pandas as pd\n",
        "import wget\n",
        "import os\n",
        "import numpy as np\n",
        "import tensorflow as tf\n",
        "import torch\n",
        "import time\n",
        "import datetime\n",
        "import random\n",
        "import plotly.express as px\n",
        "\n",
        "#FROM\n",
        "from google.colab import drive\n",
        "from transformers import RobertaTokenizer, RobertaForSequenceClassification\n",
        "from transformers import BertTokenizer\n",
        "from keras.preprocessing.sequence import pad_sequences\n",
        "from sklearn.model_selection import train_test_split\n",
        "from torch.utils.data import TensorDataset, DataLoader, RandomSampler, SequentialSampler\n",
        "from transformers import BertForSequenceClassification, AdamW, BertConfig\n",
        "from sklearn.metrics import matthews_corrcoef\n",
        "from transformers import AdamW\n",
        "from transformers import get_linear_schedule_with_warmup"
      ],
      "execution_count": null,
      "outputs": []
    },
    {
      "cell_type": "markdown",
      "metadata": {
        "id": "IBTEcTWZ3GvP"
      },
      "source": [
        "<u><h3><FONT color=\"darkgreen\"> B - Connexion Google Drive </FONT></h3></u>\n",
        "\n",
        "Pour importer les données plus rapidement, nous importons un **google drive** qui comporte les données."
      ]
    },
    {
      "cell_type": "code",
      "metadata": {
        "id": "6QqFBzjx3GvP"
      },
      "source": [
        "drive.mount('/content/drive')"
      ],
      "execution_count": null,
      "outputs": []
    },
    {
      "cell_type": "markdown",
      "metadata": {
        "id": "oNdKSdqB3GvP"
      },
      "source": [
        "<u><h3><FONT color=\"darkgreen\"> C - Importation des données </FONT></h3></u>\n",
        "\n",
        "Nous importons les données d'apprentissage grâce au fichier **train.json** qui comporte notamment les descriptions des métiers et grâce au fichier **train_label.csv** qui comporte les labels des métiers correspondant. Nous importons les données test grâce au fichier **test.json** comportant les descriptions test.\n",
        "\n"
      ]
    },
    {
      "cell_type": "code",
      "metadata": {
        "id": "D5G8Jhe23GvP"
      },
      "source": [
        "DATA_PATH = \"./\"\n",
        "train_df = pd.read_json(DATA_PATH+\"/train.json\")\n",
        "test_df = pd.read_json(DATA_PATH+\"/test.json\")\n",
        "train_label = pd.read_csv(DATA_PATH+\"/train_label.csv\")\n",
        "\n",
        "train_df[\"description_lower\"] = [x.lower() for x in train_df.description]\n",
        "test_df[\"description_lower\"] = [x.lower() for x in test_df.description]\n",
        "\n",
        "sentences=train_df[\"description\"].values\n",
        "labels=train_label.Category.values\n",
        "#print(sentences)\n",
        "#print(labels)"
      ],
      "execution_count": null,
      "outputs": []
    },
    {
      "cell_type": "markdown",
      "metadata": {
        "id": "F4sdjmQW3GvP"
      },
      "source": [
        "<u><h3><FONT color=\"darkgreen\"> D - Visualisation des données </FONT></h3></u>\n",
        "\n",
        "Nous visualisons ci-dessous une partie des données présentes dans le jeu de données d'entrainement."
      ]
    },
    {
      "cell_type": "code",
      "metadata": {
        "id": "SwRHsGrP3GvP"
      },
      "source": [
        "train_df.head()"
      ],
      "execution_count": null,
      "outputs": []
    },
    {
      "cell_type": "markdown",
      "metadata": {
        "id": "XYoORYzM3GvQ"
      },
      "source": [
        "<u><h3><FONT color=\"darkgreen\"> E - GPU </FONT></h3></u>\n",
        "\n",
        "Nous demandons un GPU dans cette partie. Au préalable il faut aller dans :\n",
        "<fieldset><center>\n",
        " <strong> Modifier - Paramètres du Notebook - Accélérateur matériel => GPU </strong></center>\n",
        " </fieldset>\n",
        " \n",
        "  Si aucun est disponible on utilise le CPU à la place."
      ]
    },
    {
      "cell_type": "code",
      "metadata": {
        "id": "qI7MIasu3GvQ"
      },
      "source": [
        "import tensorflow as tf\n",
        "device_name = tf.test.gpu_device_name()\n",
        "if device_name == '/device:GPU:0':\n",
        "    print('Found GPU at: {}'.format(device_name))\n",
        "else:\n",
        "    raise SystemError('GPU device not found')"
      ],
      "execution_count": null,
      "outputs": []
    },
    {
      "cell_type": "code",
      "metadata": {
        "id": "WQEk3Ay13GvQ"
      },
      "source": [
        "import torch\n",
        "torch.cuda.empty_cache()\n",
        "if torch.cuda.is_available():       \n",
        "    device = torch.device(\"cuda\")\n",
        "    print('There are %d GPU(s) available.' % torch.cuda.device_count())\n",
        "    print('We will use the GPU:', torch.cuda.get_device_name(0))\n",
        "else:\n",
        "    print('No GPU available, using the CPU instead.')\n",
        "    device = torch.device(\"cpu\")"
      ],
      "execution_count": null,
      "outputs": []
    },
    {
      "cell_type": "markdown",
      "metadata": {
        "id": "58qSbl0D3GvQ"
      },
      "source": [
        "Il faut prendre le GPU le plus puissant qui est ici le **Tesla P100-PCIE-16GB** pour plus de rapidité. "
      ]
    },
    {
      "cell_type": "markdown",
      "metadata": {
        "id": "6X7vmtug3GvQ"
      },
      "source": [
        "<u><h2><FONT color=\"darkred\"> II - Préparation des données </FONT></h2></u>\n",
        "\n",
        "Avant de passer aux configurations de nos modèles il est important de configurer nos données d'entrée."
      ]
    },
    {
      "cell_type": "markdown",
      "metadata": {
        "id": "gJAfFuEY3GvR"
      },
      "source": [
        "<u><h3><FONT color=\"darkgreen\"> A - Chargement Tokenizer </FONT></h3></u>\n",
        "\n",
        "<p> Il faut choisir un des deux Tokenizer correspondant au modèle que l'on souhaite utiliser par la suite. Il existe plusieurs librairies pour chaque tokenizer.</p>"
      ]
    },
    {
      "cell_type": "markdown",
      "metadata": {
        "id": "PH3S_8Y03GvS"
      },
      "source": [
        "<h4> 1 - Roberta Tokenizer For Sequence Classification </h4>\n",
        "\n",
        "Nous utilisons ici **RobertaTokenizer** avec la librairie **\"roberta-base\"**. Il en existe d'autres consultable sur le site huggingface. Nous aurions pu utiliser roberta large qui est entrainée sur plus de mots seulement pour des problèmes de coût computationnel il n'était pas possible de l'exécuter sur Google Colab avec ce jeu de données."
      ]
    },
    {
      "cell_type": "code",
      "metadata": {
        "id": "2tz7dnNv3GvS"
      },
      "source": [
        "tokenizer = RobertaTokenizer.from_pretrained('roberta-base')"
      ],
      "execution_count": null,
      "outputs": []
    },
    {
      "cell_type": "markdown",
      "metadata": {
        "id": "HDM-mrzy3GvS"
      },
      "source": [
        "<h4> 2 - Bert Tokenizer For Sequence Classification </h4>\n",
        "\n",
        "Nous utilisons ici **BertTokenizer** avec la librairie **\"bert-base-uncased\"**. Nous aurions pu utiliser bert large qui est entrainé sur plus de mots mais pour les mêmes raisons que précedemment il n'était pas possible de l'exécuter sur Google Colab avec ce jeu de données."
      ]
    },
    {
      "cell_type": "code",
      "metadata": {
        "id": "L_XDiUtO3GvS"
      },
      "source": [
        "tokenizer = BertTokenizer.from_pretrained('bert-base-uncased', do_lower_case=True)"
      ],
      "execution_count": null,
      "outputs": []
    },
    {
      "cell_type": "markdown",
      "metadata": {
        "id": "Zho9gHjm3GvS"
      },
      "source": [
        "<u><h3><FONT color=\"darkgreen\"> B - Tokenization </FONT></h3></u>\n",
        "\n",
        "Nous allons tokenizer les phrases c'est-à-dire réaliser un découpage par mot et dans un second temps affecter des ID à chaque mot. Comme on l'a vu précédemment il existe plusieurs techniques de tokenization."
      ]
    },
    {
      "cell_type": "code",
      "metadata": {
        "id": "WK5pBIR13GvS"
      },
      "source": [
        "#Tokenization de toutes les phrases et affectation de l'id pour chaque mots \n",
        "input_ids = []\n",
        "for sent in sentences:\n",
        "    encoded_sent = tokenizer.encode(\n",
        "                        sent,                      \n",
        "                        add_special_tokens = True, \n",
        "                        #max_length = 128,          # Tronquez toutes les phrases.\n",
        "                        #return_tensors = 'pt',     # Renvoie pytorch tensors\n",
        "                   )\n",
        "    \n",
        "    #Ajout de la phrase encoded à la liste inputs_ids\n",
        "    input_ids.append(encoded_sent)\n",
        "\n",
        "#Affichage de la première phrase et de la liste des id\n",
        "print('Original: ', sentences[0])\n",
        "print('Token IDs:', input_ids[0])"
      ],
      "execution_count": null,
      "outputs": []
    },
    {
      "cell_type": "code",
      "metadata": {
        "id": "RzJ7xGXu3GvT"
      },
      "source": [
        "print('La phrase la plus longue possède : ', max([len(sen) for sen in input_ids]), ' caractères' )"
      ],
      "execution_count": null,
      "outputs": []
    },
    {
      "cell_type": "markdown",
      "metadata": {
        "id": "kvvHSn5Y3GvT"
      },
      "source": [
        "Sur le chunk suivant nous allons choisir la **longueur maximale en caractère des phrases** de l'entrainement. Pour des raisons computationnelles nous choissions **486 caractères** car au-delà de cette valeur nous rencontrons des problèmes."
      ]
    },
    {
      "cell_type": "code",
      "metadata": {
        "id": "CzvB2Mq23GvT"
      },
      "source": [
        "MAX_LEN = 486\n",
        "print('\\nPadding/truncating all sentences to %d values...' % MAX_LEN)\n",
        "print('\\nPadding token: \"{:}\", ID: {:}'.format(tokenizer.pad_token, tokenizer.pad_token_id))\n",
        "\n",
        "# Remplir nos tokens d'entrée avec la valeur 0.\n",
        "# \"post\" indique que nous voulons remplir et tronquer à la fin de la séquence, par opposition au début.\n",
        "\n",
        "input_ids = pad_sequences(input_ids, maxlen=MAX_LEN, dtype=\"long\", \n",
        "                          value=0, truncating=\"post\", padding=\"post\")\n",
        "print('\\Done.')"
      ],
      "execution_count": null,
      "outputs": []
    },
    {
      "cell_type": "markdown",
      "metadata": {
        "id": "A5n931pD3GvT"
      },
      "source": [
        "Nous allons créer des **masques d'attention**. Le masque d'attention indique simplement quels tokens sont des mots réels par rapport à ceux qui ne le sont pas."
      ]
    },
    {
      "cell_type": "code",
      "metadata": {
        "id": "X1PVdIlm3GvT"
      },
      "source": [
        "# Création du \"attention masque\" pour toutes les phrases.\n",
        "attention_masks = []\n",
        "for sent in input_ids:\n",
        "\n",
        "    # - Si un token ID est 0, alors c'est un padding, définissez le masque sur 0.\n",
        "    # - Si un token ID est> 0, alors c'est un vrai token, définissez le masque sur 1.\n",
        "\n",
        "    att_mask = [int(token_id > 0) for token_id in sent]\n",
        "    \n",
        "    # Ajout du \"attention mask\" de la phrase\n",
        "    attention_masks.append(att_mask)"
      ],
      "execution_count": null,
      "outputs": []
    },
    {
      "cell_type": "markdown",
      "metadata": {
        "id": "Fqz3DpHC3GvT"
      },
      "source": [
        "On réalise un **découpage apprentissage/validation** pour les inputs/labels et pour les masques pour l'entrainement avec comme proportion **90%** pour l'apprentissage et **10%** pour la validation.\n",
        "\n"
      ]
    },
    {
      "cell_type": "code",
      "metadata": {
        "id": "qhW-eh1T3GvU"
      },
      "source": [
        "# Inputs/Labels\n",
        "train_inputs, validation_inputs, train_labels, validation_labels = train_test_split(input_ids, labels, \n",
        "                                                            random_state=2018, test_size=0.1)\n",
        "# Train/Validation\n",
        "train_masks, validation_masks, _, _ = train_test_split(attention_masks, labels,\n",
        "                                             random_state=2018, test_size=0.1)"
      ],
      "execution_count": null,
      "outputs": []
    },
    {
      "cell_type": "markdown",
      "metadata": {
        "id": "Ka54xRMK3GvU"
      },
      "source": [
        "On convertit les inputs/labels et masks en **torch tensors**."
      ]
    },
    {
      "cell_type": "code",
      "metadata": {
        "id": "YDTa5_FD3GvU"
      },
      "source": [
        "train_inputs = torch.tensor(train_inputs)\n",
        "validation_inputs = torch.tensor(validation_inputs)\n",
        "train_labels = torch.tensor(train_labels)\n",
        "validation_labels = torch.tensor(validation_labels)\n",
        "train_masks = torch.tensor(train_masks)\n",
        "validation_masks = torch.tensor(validation_masks)"
      ],
      "execution_count": null,
      "outputs": []
    },
    {
      "cell_type": "markdown",
      "metadata": {
        "id": "Ou3rzq6Y3GvV"
      },
      "source": [
        "\n",
        "Dans le chunk ci-dessous on choisit la **taille des batchs**, les valeurs recommandées pour le fine-tuning pour des taches spécifiques de ce type de modèle Bert ou Roberta sont de **16 ou 32**. Nous avons opté pour des batchs de taille 16 car malgré le fait que cette taille augmente le temps d'exécution elle permet de prendre une longueur maximale des phrases en caractères plus grande. Nous allons également créer un **itérateur** pour notre ensemble de données à l'aide de la classe **Torch DataLoader**. Cela permet d'économiser de la mémoire pendant l'entraînement car, contrairement à une boucle for, avec un itérateur, l'ensemble de données n'a pas besoin d'être chargé en mémoire."
      ]
    },
    {
      "cell_type": "code",
      "metadata": {
        "id": "WJiTYZLP3GvV"
      },
      "source": [
        "# Choix batch size\n",
        "batch_size = 16\n",
        "\n",
        "# Créez le DataLoader pour notre ensemble d'apprentissage.\n",
        "train_data = TensorDataset(train_inputs, train_masks, train_labels)\n",
        "train_sampler = RandomSampler(train_data)\n",
        "train_dataloader = DataLoader(train_data, sampler=train_sampler, batch_size=batch_size)\n",
        "\n",
        "# Créez le DataLoader pour notre ensemble de validation.\n",
        "validation_data = TensorDataset(validation_inputs, validation_masks, validation_labels)\n",
        "validation_sampler = SequentialSampler(validation_data)\n",
        "validation_dataloader = DataLoader(validation_data, sampler=validation_sampler, batch_size=batch_size)"
      ],
      "execution_count": null,
      "outputs": []
    },
    {
      "cell_type": "markdown",
      "metadata": {
        "id": "ftt31mR73GvV"
      },
      "source": [
        "<u><h2><FONT color=\"darkred\"> III - Configuration du modèle </FONT></h2> </u>\n",
        "\n",
        "Nous allons dans cette partie configurer notre modèle. Il convient de choisir un des deux modèles possible en cohérence avec le tokenizer choisi en amont."
      ]
    },
    {
      "cell_type": "markdown",
      "metadata": {
        "id": "pfraDyQ93GvW"
      },
      "source": [
        "<u><h3><FONT color=\"darkgreen\"> A - Choix du modèle </FONT></h3></u>\n",
        "\n",
        "<h4> 1 - Modèle RobertaForSequenceClassification </h4>\n",
        "\n",
        "Nous configurons le modèle avec le paramètre **num_labels=28** qui correspond au nombre de labels dans la variable a expliquer qui est de 28 dans notre cas. Notre modèle pré-entrainé avec la librairie **roberta-base** comme nous l'avons mentionné précédemment."
      ]
    },
    {
      "cell_type": "code",
      "metadata": {
        "id": "m6cKx-_r3GvW"
      },
      "source": [
        "model = RobertaForSequenceClassification.from_pretrained(\n",
        "    'roberta-base',\n",
        "    num_labels=28,\n",
        "    output_attentions=False,\n",
        "    output_hidden_states=False)\n",
        "\n",
        "model.cuda()"
      ],
      "execution_count": null,
      "outputs": []
    },
    {
      "cell_type": "markdown",
      "metadata": {
        "id": "R2vj_aDy3GvW"
      },
      "source": [
        "<h4> 2 - Modèle BertForSequenceClassification </h4>\n",
        "\n",
        "Nous prenons le même **num_labels**. Ici la librairie de pré-traitement est **bert-base-uncased**."
      ]
    },
    {
      "cell_type": "code",
      "metadata": {
        "id": "Aet9yyV_3GvW"
      },
      "source": [
        "model = BertForSequenceClassification.from_pretrained(\n",
        "    \"bert-base-uncased\", \n",
        "    num_labels = 28,    \n",
        "    output_attentions = False, # Affichage du modèle des attentions poids  \n",
        "    output_hidden_states = False, # Affichage du modèle de toutes les couches cachés\n",
        ")\n",
        "# Indique à pytorch d'executer le modèle sur le GPU\n",
        "model.cuda()"
      ],
      "execution_count": null,
      "outputs": []
    },
    {
      "cell_type": "markdown",
      "metadata": {
        "id": "PnZt-4_p3GvW"
      },
      "source": [
        "<u><h3><FONT color=\"darkgreen\"> B - Visualisation des paramètres du modèles </FONT></h3></u>\n",
        "\n",
        "Nous visualisons certains paramètres de notre modèle notamment sur les Embedding Layer."
      ]
    },
    {
      "cell_type": "code",
      "metadata": {
        "id": "76XIBwwN3GvX"
      },
      "source": [
        "params = list(model.named_parameters())\n",
        "print('The BERT model has {:} different named parameters.\\n'.format(len(params)))\n",
        "print('==== Embedding Layer ====\\n')\n",
        "for p in params[0:5]:\n",
        "    print(\"{:<55} {:>12}\".format(p[0], str(tuple(p[1].size()))))\n",
        "print('\\n==== First Transformer ====\\n')\n",
        "for p in params[5:21]:\n",
        "    print(\"{:<55} {:>12}\".format(p[0], str(tuple(p[1].size()))))\n",
        "print('\\n==== Output Layer ====\\n')\n",
        "for p in params[-4:]:\n",
        "    print(\"{:<55} {:>12}\".format(p[0], str(tuple(p[1].size()))))"
      ],
      "execution_count": null,
      "outputs": []
    },
    {
      "cell_type": "markdown",
      "metadata": {
        "id": "UZ6fYG-a3GvX"
      },
      "source": [
        "<u><h3><FONT color=\"darkgreen\"> C - Optimisation AdamW </FONT></h3></u>\n",
        "\n",
        "Dans le chunk suivant nous optimisons les paramètres de notre modèle avec AdamW. Nous choisissons  également le nombre d'epochs (Nombre de fois que l'on étudie chaque donnée)."
      ]
    },
    {
      "cell_type": "code",
      "metadata": {
        "id": "zoV_ZbvJ3GvX"
      },
      "source": [
        "from transformers import AdamW\n",
        "# Note: AdawW est une classe venant de librarie d'hugging face (opposé à pytorch)\n",
        "optimizer = AdamW(model.parameters(),\n",
        "                  lr = 2e-5, # args.learning_rate - par défaut 5e-5, ici 2e-5\n",
        "                  eps = 1e-8 # args.adam_epsilon  - par défaut 1e-8.\n",
        "                )\n",
        "from transformers import get_linear_schedule_with_warmup\n",
        "\n",
        "# Nombre d'epoch pour le training (entre 2 et 4)\n",
        "epochs = 3\n",
        "\n",
        "# Nombre total d'étapes : nombre de batchs * nombre d'epochs\n",
        "total_steps = len(train_dataloader) * epochs\n",
        "\n",
        "# Créez le planificateur de taux d'apprentissage.\n",
        "scheduler = get_linear_schedule_with_warmup(optimizer, \n",
        "                                            num_warmup_steps = 0, # Default value in run_glue.py\n",
        "                                            num_training_steps = total_steps)"
      ],
      "execution_count": null,
      "outputs": []
    },
    {
      "cell_type": "markdown",
      "metadata": {
        "id": "yjIttOW13GvX"
      },
      "source": [
        "<u><h2><FONT color=\"darkred\"> IV - Entrainement du modèle sur le train et validation </FONT></h2></u>\n",
        "\n",
        "Nous allons entrainer notre modèle sur la partie train et verifier sur la partie validation."
      ]
    },
    {
      "cell_type": "markdown",
      "metadata": {
        "id": "7EcS9V2z3GvX"
      },
      "source": [
        "<u><h3><FONT color=\"darkgreen\"> A - Définition de fonction </FONT></h3></u>\n",
        "\n",
        "\n"
      ]
    },
    {
      "cell_type": "markdown",
      "metadata": {
        "id": "5lI5YYjA3GvY"
      },
      "source": [
        "<h5><strong> flat accuracy </strong></h5>\n",
        "\n",
        "Nous implémentons une fonction pour calculer la précision de nos prédictions par rapport aux labels."
      ]
    },
    {
      "cell_type": "code",
      "metadata": {
        "id": "BrlgCdRr3GvY"
      },
      "source": [
        "def flat_accuracy(preds, labels):\n",
        "    pred_flat = np.argmax(preds, axis=1).flatten()\n",
        "    labels_flat = labels.flatten()\n",
        "    return np.sum(pred_flat == labels_flat) / len(labels_flat)"
      ],
      "execution_count": null,
      "outputs": []
    },
    {
      "cell_type": "markdown",
      "metadata": {
        "id": "CPjRd9vP3GvY"
      },
      "source": [
        "<h5> <strong>format time</strong> </h5>\n",
        "\n",
        "Nous allons implémenter une fonction pour calculer le temps d'exécution."
      ]
    },
    {
      "cell_type": "code",
      "metadata": {
        "id": "r5oCrvVs3GvY"
      },
      "source": [
        "def format_time(elapsed):\n",
        "    # Arrondir à la seconde la plus proche\n",
        "    elapsed_rounded = int(round((elapsed)))\n",
        "    \n",
        "    # Format hh:mm:ss ce qui correspond à Heure:Minute:Seconde\n",
        "    return str(datetime.timedelta(seconds=elapsed_rounded))"
      ],
      "execution_count": null,
      "outputs": []
    },
    {
      "cell_type": "markdown",
      "metadata": {
        "id": "W0U6QyFM3GvY"
      },
      "source": [
        "<u><h3><FONT color=\"darkgreen\"> B - Entrainement </FONT></h3></u>\n",
        "\n",
        "Ci-dessous le chunk d'entrainement et de validation."
      ]
    },
    {
      "cell_type": "code",
      "metadata": {
        "id": "vbLCGGv03GvZ"
      },
      "source": [
        "# Initialisation d'un seed pour avoir des résultats reproductibles\n",
        "seed_val = 42\n",
        "random.seed(seed_val)\n",
        "np.random.seed(seed_val)\n",
        "torch.manual_seed(seed_val)\n",
        "torch.cuda.manual_seed_all(seed_val)\n",
        "\n",
        "# Stockez la perte moyenne après chaque époque afin de pouvoir les tracer.\n",
        "loss_values = []\n",
        "\n",
        "training_stats = []\n",
        "\n",
        "for epoch_i in range(0, epochs):\n",
        "    \n",
        "    # ========================================\n",
        "    #               Apprentissage\n",
        "    # ========================================\n",
        "    \n",
        "    print(\"\")\n",
        "    print('======== Epoch {:} / {:} ========'.format(epoch_i + 1, epochs))\n",
        "    print('Training...')\n",
        "\n",
        "    # Mesure du temps écoulé pour l'apprentisagge d'une epoch\n",
        "    t0 = time.time()\n",
        "    \n",
        "    # Réinitialisez la loss totale pour cette époque.\n",
        "    total_loss = 0\n",
        "\n",
        "    # Model en training mode\n",
        "    model.train()\n",
        "\n",
        "    for step, batch in enumerate(train_dataloader):\n",
        "\n",
        "        # Progrès mis à jour tous les 40 batches.\n",
        "        if step % 40 == 0 and not step == 0:\n",
        "            \n",
        "            # Calculez le temps écoulé en minutes.\n",
        "            elapsed = format_time(time.time() - t0)\n",
        "            \n",
        "            # Affichage de la progression\n",
        "            print('  Batch {:>5,}  of  {:>5,}.    Elapsed: {:}.'.format(step, len(train_dataloader), elapsed))\n",
        "\n",
        "\n",
        "        # Sortir le batch training de notre dataloader \n",
        "\n",
        "        # Au fur et à mesure que nous déballons(\"unpack\") le batch, \n",
        "        # nous copierons également chaque tenseur sur le GPU en utilisant la méthode `to`.\n",
        "        \n",
        "        # Batchs contiennent trois pytorch tensors :\n",
        "        #   [0]: input ids \n",
        "        #   [1]: attention masks\n",
        "        #   [2]: labels \n",
        "\n",
        "        b_input_ids = batch[0].to(device)\n",
        "        b_input_mask = batch[1].to(device)\n",
        "        b_labels = batch[2].to(device)\n",
        "\n",
        "        # Effacez toujours les gradients précédemment calculés avant d'effectuer une backward pass. \n",
        "        # PyTorch ne le fait pas automatiquement car l'accumulation des gradients est \"pratique lors de l'entrainement des RNN\".\n",
        "\n",
        "        model.zero_grad()  \n",
        "\n",
        "        # Effectuer une forward pass (évaluer le modèle sur ce batch d'entraînement).\n",
        "        # Cela renverra la perte/loss (plutôt que la sortie du modèle) car nous avons fourni les `labels`.\n",
        "\n",
        "        outputs = model(b_input_ids, \n",
        "                    token_type_ids=None, \n",
        "                    attention_mask=b_input_mask, \n",
        "                    labels=b_labels)\n",
        "        \n",
        "        # L'appel à `model` retourne toujours un tuple, \n",
        "        # nous devons donc extraire la valeur de perte/loss du tuple.\n",
        "\n",
        "        loss = outputs[0]\n",
        "        \n",
        "        # Accumuler la perte/loss d'entraînement sur tous les batchs afin de pouvoir calculer la perte/loss moyenne à la fin.\n",
        "        # «loss» est un Tensor contenant une valeur unique; \n",
        "        # la fonction `.item ()` renvoie simplement la valeur Python du tenseur.\n",
        "\n",
        "        total_loss += loss.item()\n",
        "\n",
        "        # Effectuez une backward pass pour calculer les gradients.\n",
        "        loss.backward()\n",
        "\n",
        "        # Fixez la norme des gradients à 1.0.\n",
        "        # Ceci permet d'éviter le problème des \"exploding gradients\".\n",
        "\n",
        "        torch.nn.utils.clip_grad_norm_(model.parameters(), 1.0)\n",
        "\n",
        "        # Mettez à jour les paramètres et faites un pas en utilisant le gradient calculé.\n",
        "\n",
        "        # L'optimiseur dicte la \"règle de mise à jour\" \n",
        "        # comment les paramètres sont modifiés en fonction de leurs gradients, du taux d'apprentissage, etc.\n",
        "\n",
        "        optimizer.step()\n",
        "        \n",
        "        # Mis à jour du taux d'apprentissage(\"learning rate\")\n",
        "        scheduler.step()\n",
        "\n",
        "    # Calculez la perte moyenne sur les données d'entraînement. \n",
        "    avg_train_loss = total_loss / len(train_dataloader)            \n",
        "    \n",
        "    # Stockez la valeur de perte pour tracer la courbe d'apprentissage.\n",
        "    loss_values.append(avg_train_loss)\n",
        "    print(\"\")\n",
        "    print(\"  Average training loss: {0:.2f}\".format(avg_train_loss))\n",
        "    print(\"  Training epcoh took: {:}\".format(format_time(time.time() - t0)))\n",
        "        \n",
        "    # ========================================\n",
        "    #               Validation\n",
        "    # ========================================\n",
        "\n",
        "    # Après chaque epoch de training, mesure de  notre performance sur\n",
        "    # notre ensemble de validation.\n",
        "\n",
        "    print(\"\")\n",
        "    print(\"Running Validation...\")\n",
        "    t0 = time.time()\n",
        "\n",
        "    # Mettre le modèle en mode évaluation\n",
        "    model.eval()\n",
        "\n",
        "    # Suivre variables \n",
        "    eval_loss, eval_accuracy = 0, 0\n",
        "    nb_eval_steps, nb_eval_examples = 0, 0\n",
        "\n",
        "    # Suivre variables \n",
        "    total_eval_loss = 0\n",
        "\n",
        "    for batch in validation_dataloader:\n",
        "        \n",
        "        #Ajout batch au GPU\n",
        "        batch = tuple(t.to(device) for t in batch)\n",
        "        \n",
        "        # Sortir le batch training de notre dataloader \n",
        "        b_input_ids, b_input_mask, b_labels = batch\n",
        "        \n",
        "        # Dire au modèle de ne pas calculer ou stocker les gradients,\n",
        "        # économiser de la mémoire et accélérer la validation\n",
        "\n",
        "        with torch.no_grad():        \n",
        "\n",
        "            # Calculer les logits\n",
        "\n",
        "            # Cela renverra les logits plutôt que la perte car nous n'avons pas fourni d'étiquettes.\n",
        "\n",
        "            # token_type_ids est le même que les \"segment ids\", \n",
        "            # qui différencient les phrases 1 et 2 dans les tâches à 2 phrases.\n",
        "\n",
        "            outputs = model(b_input_ids, \n",
        "                            token_type_ids=None, \n",
        "                            attention_mask=b_input_mask)\n",
        "            \n",
        "        # Prendre les logits sortis par le modèle    \n",
        "        logits = outputs[0]\n",
        "        \n",
        "        # Les \"logits\" sont les valeurs de sortie avant d'appliquer une fonction d'activation comme le softmax.\n",
        "\n",
        "        # Déplacer les logits et les labels vers le CPU\n",
        "        logits = logits.detach().cpu().numpy()\n",
        "        label_ids = b_labels.to('cpu').numpy()\n",
        "        \n",
        "        # Calculez la précision  pour ce batch pour les phrases test.\n",
        "        tmp_eval_accuracy = flat_accuracy(logits, label_ids)\n",
        "  \n",
        "        # Somme pour la précision totale\n",
        "        eval_accuracy += tmp_eval_accuracy\n",
        "\n",
        "        # Suivre/Actualiser le nombre de batch\n",
        "        nb_eval_steps += 1\n",
        "\n",
        "         \n",
        "    # Affichage de la précision finale de ce validation run.\n",
        "    print(\"  Accuracy: {0:.2f}\".format(eval_accuracy/nb_eval_steps))\n",
        "    print(\"  Validation took: {:}\".format(format_time(time.time() - t0)))\n",
        "    \n",
        "print(\"\")\n",
        "print(\"Training complete!\")\n"
      ],
      "execution_count": null,
      "outputs": []
    },
    {
      "cell_type": "markdown",
      "metadata": {
        "id": "mLY7oHG-3GvZ"
      },
      "source": [
        "Nous avons réaliser un graphique pour observer la **perte/loss d'entrainement** du modèle en fonction des epochs.\n"
      ]
    },
    {
      "cell_type": "code",
      "metadata": {
        "id": "5Cei0C8L3GvZ"
      },
      "source": [
        "f = pd.DataFrame(loss_values)\n",
        "f.columns=['Loss']\n",
        "fig = px.line(f, x=f.index, y=f.Loss)\n",
        "fig.update_layout(title='Training loss of the Model',\n",
        "                   xaxis_title='Epoch',\n",
        "                   yaxis_title='Loss')\n",
        "fig.show()"
      ],
      "execution_count": null,
      "outputs": []
    },
    {
      "cell_type": "markdown",
      "metadata": {
        "id": "LDNvkx_q3GvZ"
      },
      "source": [
        "Il est possible de rajouter certaines variables pour visualiser la présence ou non de **surapprentissage** ."
      ]
    },
    {
      "cell_type": "markdown",
      "metadata": {
        "id": "eIY5mb-h3Gva"
      },
      "source": [
        "<u><h2><FONT color=\"darkred\"> V - Prédictions </FONT></h2></u>\n",
        "\n",
        "Maintenant que nous avons configuré, optimisé et entrainé notre modèle nous allons **prédire les labels** avec le jeu de données **test**."
      ]
    },
    {
      "cell_type": "markdown",
      "metadata": {
        "id": "nLrKI90r3Gva"
      },
      "source": [
        "<u><h3><FONT color=\"darkgreen\"> A - Configuration données test </FONT></h3></u>\n",
        "\n",
        "Tout d'abord il convient de configurer le jeu de données test comme le jeu de données train (Tokenization, Masque, Torch Tensor, Batch Size, DataLoader)"
      ]
    },
    {
      "cell_type": "code",
      "metadata": {
        "id": "acd2W7qG3Gva"
      },
      "source": [
        "# Définition de sentences/labels\n",
        "sentences=test_df[\"description\"].values\n",
        "labels=train_label[0:54300].Category.values\n",
        "\n",
        "# Affichage du nombre de phrase\n",
        "print('Le jeu de données test comporte : {:,}\\n'.format(test_df.shape[0]),\"phrase\")\n",
        "\n",
        "# Tokenization du jeu de données test\n",
        "input_ids = []\n",
        "for sent in sentences:\n",
        "    encoded_sent = tokenizer.encode(\n",
        "                        sent,                      \n",
        "                        add_special_tokens = True, \n",
        "                   )\n",
        "    \n",
        "    input_ids.append(encoded_sent)\n",
        "\n",
        "# Pad_sequences : réglages de la longueur maximale\n",
        "input_ids = pad_sequences(input_ids, maxlen=MAX_LEN, \n",
        "                          dtype=\"long\", truncating=\"post\", padding=\"post\")\n",
        "# Attention masks\n",
        "attention_masks = []\n",
        "for seq in input_ids:\n",
        "  seq_mask = [float(i>0) for i in seq]\n",
        "  attention_masks.append(seq_mask) \n",
        "\n",
        "# Convertion en torch tensor\n",
        "prediction_inputs = torch.tensor(input_ids)\n",
        "prediction_masks = torch.tensor(attention_masks)\n",
        "prediction_labels = torch.tensor(labels)\n",
        "\n",
        "# Choix du batch size.  \n",
        "batch_size = 32 \n",
        "\n",
        "# Créer DataLoader.\n",
        "prediction_data = TensorDataset(prediction_inputs, prediction_masks, prediction_labels)\n",
        "prediction_sampler = SequentialSampler(prediction_data)\n",
        "prediction_dataloader = DataLoader(prediction_data, sampler=prediction_sampler, batch_size=batch_size)"
      ],
      "execution_count": null,
      "outputs": []
    },
    {
      "cell_type": "markdown",
      "metadata": {
        "id": "a862Oys43Gva"
      },
      "source": [
        "<u><h3><FONT color=\"darkgreen\"> B - Prédictions du jeu de données Test </FONT></h3></u>\n",
        "\n",
        "Nous allons à l'aide du modèle construire/prédire les **logits** des données test."
      ]
    },
    {
      "cell_type": "code",
      "metadata": {
        "id": "Y2ZeW2bm3Gvb"
      },
      "source": [
        "print('Predicting labels for {:,} test sentences...'.format(len(prediction_inputs)))\n",
        "# Model en mode eval\n",
        "model.eval()\n",
        "\n",
        "# variables \n",
        "predictions , true_labels = [], []\n",
        "# predictions\n",
        "for batch in prediction_dataloader:\n",
        "\n",
        "  # Ajout batch au GPU\n",
        "  batch = tuple(t.to(device) for t in batch)\n",
        "  \n",
        "  # Unpack the inputs from our dataloader\n",
        "  b_input_ids, b_input_mask, b_labels = batch\n",
        "  \n",
        "  # Dire au modèle de ne pas calculer ou stocker les gradients, économiser de la mémoire et accélérer la prédiction \n",
        "  with torch.no_grad():\n",
        "      # calculer les logits de prédiction.\n",
        "      outputs = model(b_input_ids, token_type_ids=None, \n",
        "                      attention_mask=b_input_mask)\n",
        "  logits = outputs[0]\n",
        "\n",
        "  # Déplacer les logits et labels vers CPU\n",
        "  logits = logits.detach().cpu().numpy()\n",
        "  label_ids = b_labels.to('cpu').numpy()\n",
        "  \n",
        "  # Stockage des prédictions et des true labels \n",
        "  predictions.append(logits)\n",
        "  true_labels.append(label_ids)\n",
        "print('DONE.')"
      ],
      "execution_count": null,
      "outputs": []
    },
    {
      "cell_type": "markdown",
      "metadata": {
        "id": "SMQ0ftk83Gvb"
      },
      "source": [
        "\n",
        "\n",
        "Pour construire le vecteur de prédictions il faut garder le **label** correspand au **logits maximal** pour chaque observations. Le tableau est un double tableau de taille **1697*32** ici. Le 32 correspond à la taille des batchs."
      ]
    },
    {
      "cell_type": "code",
      "metadata": {
        "id": "Iz3z4g2e3Gvb"
      },
      "source": [
        "vect=[]\n",
        "for j in range(1696):\n",
        "  for i in range(32):\n",
        "    pred_labels = np.argmax(predictions[j][i], axis=0).flatten()\n",
        "    vect.append(pred_labels[0])\n",
        "for t in range(28):\n",
        "  pred_labels = np.argmax(predictions[1696][t], axis=0).flatten()\n",
        "  vect.append(pred_labels[0])\n",
        "  \n",
        "print(\"Le vecteur possède est:\",len(vect))"
      ],
      "execution_count": null,
      "outputs": []
    },
    {
      "cell_type": "markdown",
      "metadata": {
        "id": "rMoqVfpJ3Gvb"
      },
      "source": [
        "Nous stockons nos prédictions dans un csv avec deux colonnes : la première correspondant à l'identifiant de l'observation elle s'appelle **Id** et la deuxième correspond aux labels prédit qui a pour nom **Category**."
      ]
    },
    {
      "cell_type": "code",
      "metadata": {
        "id": "DVdL0AAt3Gvb"
      },
      "source": [
        "test_df[\"Category\"] = vect\n",
        "baseline_file = test_df[[\"Id\",\"Category\"]]\n",
        "baseline_file.to_csv(\"BERTAouf486_epoch2.csv\", index=False)"
      ],
      "execution_count": null,
      "outputs": []
    },
    {
      "cell_type": "markdown",
      "metadata": {
        "id": "j63H8D-a3Gvb"
      },
      "source": [
        "<u><h2><FONT color=\"darkred\"> VI - Résultats </FONT></h2></u>\n",
        "\n",
        "<p style=\"text-align: justify;\">A l'aide du modèle pré-entrainé sur BERT-base en effectuant deux epochs avec un max_len de 486 et tous les paramètres définis ci-dessus nous obtenons un score de 0.816 sur le defi IA. Les mêmes paramètres pour RoBERTa-base produisent le même résultat alors que l'on s'attendait à légèrement mieux. Cela provient du fait que Roberta tokenize les phrases d'une manière légèrement différente et qui prend plus de place. La limite de 486 caractères a donc été plus limitante pour roberta que pour BERT ce qui explique le résultat. Il existe des techniques pour éviter cela mais nous n'avons pas eu le temps de s'y intéresser.</p>\n",
        "    \n",
        "<p style=\"text-align: justify;\">Une solution aurait été de prendre un abonnement colab Pro. De plus en poussant le nombre d'epochs à 3 et en prenant le modèle pré entrainé de RoBERTa-Large qui est le modèle remportant tous les defis de NLP a l'heure actuelle nous pensons que nous aurions pu obtenir un meilleur score encore. Pour terminer il convient aussi de mentionner que l'entrainement du modèle à pris environ 8 heures avec une carte graphique professionelle tesla P100 et que la limite de temps d'une session sur colab est de 12 heures. Nous ne pouvions donc pas faire beaucoup plus hormis en passant à la version pro de colab.</p>"
      ]
    },
    {
      "cell_type": "markdown",
      "metadata": {
        "id": "z5l1A1tk3Gvb"
      },
      "source": [
        "<u><h2><FONT color=\"darkred\"> VII - Comparaison des prédictions pour différents modèles </FONT></h2></u>\n",
        "\n",
        "Il est possible de comparer les modèles sur leurs prédictions ce qui permet de voir quels sont les modèles les plus proches et permet de donner une première idée du taux d'erreur possible en fonction de la proximité avec d'autre modèles où l'erreur de prédiction est connue.\n",
        "\n",
        "<u><h3><FONT color=\"darkgreen\"> A - Chargement des csv de prédictions </FONT></h3></u>"
      ]
    },
    {
      "cell_type": "code",
      "metadata": {
        "id": "JGv3auib3Gvb"
      },
      "source": [
        "DATA_PATH = \"./\"\n",
        "\n",
        "# ROBERT\n",
        "\n",
        "# epoch = 1\n",
        "\n",
        "roberta480 = pd.read_csv(DATA_PATH+\"/ROBERTAouf480.csv\")\n",
        "roberta486 = pd.read_csv(DATA_PATH+\"/ROBERTAouf486.csv\")\n",
        "roberta320 = pd.read_csv(DATA_PATH+\"/ROBERTAouf320.csv\")\n",
        "\n",
        "# epoch = 2\n",
        "\n",
        "roberta484E2 = pd.read_csv(DATA_PATH+\"/ROBERTAouf484_Epoch2.csv\")\n",
        "robert_2e = pd.read_csv(DATA_PATH+\"/ROBERTAouf484_Epoch2.csv\")\n",
        "\n",
        "# BERT\n",
        "\n",
        "# epoch = 1\n",
        "bert480 = pd.read_csv(DATA_PATH+\"/BERTouf_480.csv\")\n",
        "bert_480 = pd.read_csv(DATA_PATH+\"/BERTouf_480.csv\")\n",
        "\n",
        "# epoch = 2\n",
        "bert_2e = pd.read_csv(DATA_PATH+\"/BERTouf486_e2.csv\")\n"
      ],
      "execution_count": null,
      "outputs": []
    },
    {
      "cell_type": "markdown",
      "metadata": {
        "id": "w-LQZUVQ3Gvb"
      },
      "source": [
        "<u><h3><FONT color=\"darkgreen\"> B - Tableau du pourcentage de similitudes </FONT></h3></u>"
      ]
    },
    {
      "cell_type": "code",
      "metadata": {
        "id": "9AuGaqce3Gvc"
      },
      "source": [
        "print(sum(roberta480[\"Category\"]==roberta484E2[\"Category\"])/54300)\n",
        "print(sum(roberta486[\"Category\"]==roberta484E2[\"Category\"])/54300)\n",
        "\n",
        "print(sum(bert_2e[\"Category\"]==bert_480[\"Category\"])/54300)\n",
        "print(sum(robert_2e[\"Category\"]==bert_2e[\"Category\"])/54300)\n",
        "print(sum(robert_2e[\"Category\"]==bert_480[\"Category\"])/54300)"
      ],
      "execution_count": null,
      "outputs": []
    },
    {
      "cell_type": "code",
      "metadata": {
        "id": "Mytmbo9p3Gvc"
      },
      "source": [
        "tot_=sum(roberta480[\"Category\"]==roberta486[\"Category\"])/54300\n",
        "tot_diff2=sum(roberta320[\"Category\"]==roberta486[\"Category\"])/54300\n",
        "tot_diff3=sum(bert480[\"Category\"]==roberta486[\"Category\"])/54300\n",
        "print(tot_)\n",
        "print(tot_diff2)\n",
        "print(tot_diff3)"
      ],
      "execution_count": null,
      "outputs": []
    },
    {
      "cell_type": "code",
      "metadata": {
        "id": "NC-8uS543Gvc"
      },
      "source": [
        "tot_diff=sum(roberta480[\"Category\"]==roberta320[\"Category\"])/54300\n",
        "tot_diff3=sum(roberta480[\"Category\"]==bert480[\"Category\"])/54300\n",
        "print(tot_diff)\n",
        "print(tot_diff3)"
      ],
      "execution_count": null,
      "outputs": []
    },
    {
      "cell_type": "code",
      "metadata": {
        "id": "agbd9P2J3Gvc"
      },
      "source": [
        "rob_epoch1=sum(roberta480[\"Category\"]==roberta320[\"Category\"])/54300\n",
        "rob_epoch2=sum(roberta480[\"Category\"]==bert480[\"Category\"])/54300\n",
        "rob_epoch3=sum(roberta320[\"Category\"]==bert480[\"Category\"])/54300\n",
        "print(rob_epoch1)\n",
        "print(rob_epoch2)\n",
        "print(rob_epoch3)"
      ],
      "execution_count": null,
      "outputs": []
    },
    {
      "cell_type": "markdown",
      "metadata": {
        "id": "AucdYJmC3Gvd"
      },
      "source": [
        "<u><h2><FONT color=\"darkred\"> VIII - Bibliographie </FONT></h2></u>\n",
        "\n",
        "<ul>\n",
        "  <li> https://towardsdatascience.com/fine-tuning-bert-and-roberta-for-high-accuracy-text-classification-in-pytorch-c9e63cf64646  </li>\n",
        "\n",
        "  <li>https://medium.com/@aniruddha.choudhury94/part-2-bert-fine-tuning-tutorial-with-pytorch-for-text-classification-on-the-corpus-of-linguistic-18057ce330e1 </li>\n",
        "  \n",
        "</ul>"
      ]
    },
    {
      "cell_type": "code",
      "metadata": {
        "id": "ZDW1lc3w3Gvd"
      },
      "source": [
        ""
      ],
      "execution_count": null,
      "outputs": []
    }
  ]
}